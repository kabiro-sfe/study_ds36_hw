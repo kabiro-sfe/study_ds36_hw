{
 "cells": [
  {
   "cell_type": "markdown",
   "id": "572a077e",
   "metadata": {},
   "source": [
    "#### Домашнее задание\n",
    " - Создайте случайную матрицу А1 размерностью 5 на 5 +\n",
    " - Транспонируйте матрицу A1 +\n",
    " - Найдите обратную матрицу для А1 +\n",
    " - Создайте диагональную матрицу - поэлементно перемножив единичную матрицу I и случайную матрицу A2 размерности 4 на 4 +\n",
    " - Создайте нулевую матрицу размерности 3 на 3 +\n",
    " - Для всех полученных матриц найдите: определитель, ранг и собственные значения +\n",
    " - Проанализируйте результаты +"
   ]
  },
  {
   "cell_type": "code",
   "execution_count": 1,
   "id": "d9ee7394",
   "metadata": {},
   "outputs": [],
   "source": [
    "import numpy as np"
   ]
  },
  {
   "cell_type": "code",
   "execution_count": 2,
   "id": "cc9c868d",
   "metadata": {},
   "outputs": [
    {
     "name": "stdout",
     "output_type": "stream",
     "text": [
      "A1 show\n",
      "[[5 8 2 7 4]\n",
      " [2 6 0 1 8]\n",
      " [2 1 5 0 3]\n",
      " [5 8 3 6 1]\n",
      " [5 2 3 3 2]]\n",
      "\n"
     ]
    }
   ],
   "source": [
    "# случайная матрица\n",
    "# A1 = np.random.random([5, 5])\n",
    "A1 = np.random.randint(0, 9, (5, 5))\n",
    "\n",
    "print('A1 show')\n",
    "print(A1)\n",
    "print()"
   ]
  },
  {
   "cell_type": "code",
   "execution_count": 3,
   "id": "0af938cf",
   "metadata": {},
   "outputs": [
    {
     "name": "stdout",
     "output_type": "stream",
     "text": [
      "A1_t show\n",
      "[[5 2 2 5 5]\n",
      " [8 6 1 8 2]\n",
      " [2 0 5 3 3]\n",
      " [7 1 0 6 3]\n",
      " [4 8 3 1 2]]\n",
      "\n"
     ]
    }
   ],
   "source": [
    "# транспонирование\n",
    "A1_t = np.transpose(A1)\n",
    "\n",
    "\n",
    "print('A1_t show')\n",
    "print(A1_t)\n",
    "print()"
   ]
  },
  {
   "cell_type": "code",
   "execution_count": 4,
   "id": "e06e00e3",
   "metadata": {},
   "outputs": [
    {
     "name": "stdout",
     "output_type": "stream",
     "text": [
      "A1_ivn show\n",
      "[[-0.32825977  0.12125824 -0.20598681  0.16336885  0.39878234]\n",
      " [-0.22272958  0.1100964  -0.02384576  0.29477423 -0.1065449 ]\n",
      " [ 0.0644343  -0.09335363  0.2506342   0.00811771 -0.13546423]\n",
      " [ 0.50735667 -0.20750888  0.06798579 -0.32978184 -0.1217656 ]\n",
      " [ 0.18569254  0.03805175  0.0608828  -0.22070015 -0.00456621]]\n",
      "\n",
      "A1_test show\n",
      "[[ 1.00000000e+00  5.55111512e-17  0.00000000e+00  2.22044605e-16\n",
      "  -3.46944695e-17]\n",
      " [ 2.22044605e-16  1.00000000e+00  1.11022302e-16  2.22044605e-16\n",
      "  -1.66533454e-16]\n",
      " [ 8.32667268e-17 -1.38777878e-17  1.00000000e+00  8.32667268e-17\n",
      "   9.54097912e-17]\n",
      " [-8.32667268e-17  5.55111512e-17  2.77555756e-17  1.00000000e+00\n",
      "   2.25514052e-17]\n",
      " [-1.66533454e-16  5.55111512e-17  1.80411242e-16  1.66533454e-16\n",
      "   1.00000000e+00]]\n",
      "\n"
     ]
    }
   ],
   "source": [
    "# обратная матрица\n",
    "A1_inv = np.linalg.inv(A1)\n",
    "\n",
    "print('A1_ivn show')\n",
    "print(A1_inv)\n",
    "print()\n",
    "\n",
    "\n",
    "A1_test = A1 @ A1_inv\n",
    "\n",
    "print('A1_test show')\n",
    "print(A1_test)\n",
    "print()"
   ]
  },
  {
   "cell_type": "code",
   "execution_count": 5,
   "id": "4dc52a7f",
   "metadata": {},
   "outputs": [
    {
     "name": "stdout",
     "output_type": "stream",
     "text": [
      "I show\n",
      "[[1. 0. 0. 0.]\n",
      " [0. 1. 0. 0.]\n",
      " [0. 0. 1. 0.]\n",
      " [0. 0. 0. 1.]]\n",
      "\n",
      "A2 show\n",
      "[[0 3 8 3]\n",
      " [7 0 8 0]\n",
      " [6 1 3 6]\n",
      " [4 8 2 8]]\n",
      "\n",
      "A2_I show\n",
      "[[0. 3. 8. 3.]\n",
      " [7. 0. 8. 0.]\n",
      " [6. 1. 3. 6.]\n",
      " [4. 8. 2. 8.]]\n"
     ]
    }
   ],
   "source": [
    "# диагональная матрица\n",
    "I = np.eye(4)\n",
    "\n",
    "# случайная матрица\n",
    "A2 = np.random.randint(0, 9, (4, 4))\n",
    "\n",
    "# поэлементное перемножение\n",
    "A2_I = A2 @ I\n",
    "\n",
    "print('I show')\n",
    "print(I)\n",
    "print()\n",
    "\n",
    "print('A2 show')\n",
    "print(A2)\n",
    "print()\n",
    "\n",
    "print('A2_I show')\n",
    "print(A2_I)"
   ]
  },
  {
   "cell_type": "code",
   "execution_count": 6,
   "id": "1c943910",
   "metadata": {},
   "outputs": [
    {
     "name": "stdout",
     "output_type": "stream",
     "text": [
      "A3_t show\n",
      "[[0. 0. 0.]\n",
      " [0. 0. 0.]\n",
      " [0. 0. 0.]]\n",
      "\n"
     ]
    }
   ],
   "source": [
    "# нулевая матрица\n",
    "A3 = np.zeros([3,3])\n",
    "\n",
    "print('A3_t show')\n",
    "print(A3)\n",
    "print()"
   ]
  },
  {
   "cell_type": "code",
   "execution_count": 7,
   "id": "055e03e9",
   "metadata": {},
   "outputs": [
    {
     "name": "stdout",
     "output_type": "stream",
     "text": [
      "Определите матрицы\n",
      " A1:  -1970.999999999998\n",
      " A1_t:  -1970.999999999998\n",
      " A1_inv:  -0.0005073566717402335\n",
      " A2:  -2509.9999999999995\n",
      " A2_I:  -2509.9999999999995\n",
      " A3:  0.0\n",
      "\n",
      "Ранг матрицы\n",
      " A1:  5\n",
      " A1_t:  5\n",
      " A1_inv:  5\n",
      " A2:  4\n",
      " A2_I:  4\n",
      " A3:  0\n",
      "\n",
      "Собственные значения\n",
      " A1:  [18.79429389+0.j        -1.42342389+0.j         1.03508119+3.8844942j\n",
      "  1.03508119-3.8844942j  4.55896762+0.j       ]\n",
      " A1_t:  [18.79429389+0.j        -1.42342389+0.j         1.03508119+3.8844942j\n",
      "  1.03508119-3.8844942j  4.55896762+0.j       ]\n",
      " A1_inv:  [-0.70253142+0.j          0.06404933+0.24036688j  0.06404933-0.24036688j\n",
      "  0.05320764+0.j          0.21934791+0.j        ]\n",
      " A2:  [16.97083367+0.j         -6.0143079 +0.j          0.02173712+4.95893335j\n",
      "  0.02173712-4.95893335j]\n",
      " A2_I:  [16.97083367+0.j         -6.0143079 +0.j          0.02173712+4.95893335j\n",
      "  0.02173712-4.95893335j]\n",
      " A3:  [0. 0. 0.]\n",
      "\n"
     ]
    }
   ],
   "source": [
    "# Для всех полученных матриц найдите: определитель, ранг и собственные значения\n",
    "# определитель\n",
    "# ранг\n",
    "# собственные значения\n",
    "\n",
    "# матрицы (A1 (A1_t, A1_inv), A2 (A2_I), A3)\n",
    "print('Определите матрицы')\n",
    "print(' A1: ', np.linalg.det(A1))\n",
    "print(' A1_t: ', np.linalg.det(A1_t))\n",
    "print(' A1_inv: ', np.linalg.det(A1_inv))\n",
    "\n",
    "print(' A2: ', np.linalg.det(A2))\n",
    "print(' A2_I: ', np.linalg.det(A2_I))\n",
    "\n",
    "print(' A3: ', np.linalg.det(A3))    \n",
    "print()\n",
    "\n",
    "print('Ранг матрицы')\n",
    "print(' A1: ', np.linalg.matrix_rank(A1))\n",
    "print(' A1_t: ', np.linalg.matrix_rank(A1_t))\n",
    "print(' A1_inv: ', np.linalg.matrix_rank(A1_inv))\n",
    "\n",
    "print(' A2: ', np.linalg.matrix_rank(A2))\n",
    "print(' A2_I: ', np.linalg.matrix_rank(A2_I))\n",
    "\n",
    "\n",
    "print(' A3: ', np.linalg.matrix_rank(A3))    \n",
    "print()\n",
    "\n",
    "print('Собственные значения')\n",
    "print(' A1: ', np.linalg.eigvals(A1))\n",
    "print(' A1_t: ', np.linalg.eigvals(A1_t))\n",
    "print(' A1_inv: ', np.linalg.eigvals(A1_inv))\n",
    "\n",
    "print(' A2: ', np.linalg.eigvals(A2))\n",
    "print(' A2_I: ', np.linalg.eigvals(A2_I))\n",
    "\n",
    "print(' A3: ', np.linalg.eigvals(A3))    \n",
    "print()"
   ]
  },
  {
   "cell_type": "code",
   "execution_count": null,
   "id": "d0bfd338",
   "metadata": {},
   "outputs": [],
   "source": []
  }
 ],
 "metadata": {
  "kernelspec": {
   "display_name": "Python 3",
   "language": "python",
   "name": "python3"
  },
  "language_info": {
   "codemirror_mode": {
    "name": "ipython",
    "version": 3
   },
   "file_extension": ".py",
   "mimetype": "text/x-python",
   "name": "python",
   "nbconvert_exporter": "python",
   "pygments_lexer": "ipython3",
   "version": "3.8.8"
  }
 },
 "nbformat": 4,
 "nbformat_minor": 5
}
