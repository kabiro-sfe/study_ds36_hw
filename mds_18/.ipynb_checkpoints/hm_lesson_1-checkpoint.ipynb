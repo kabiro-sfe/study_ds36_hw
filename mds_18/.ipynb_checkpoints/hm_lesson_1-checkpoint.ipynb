{
 "cells": [
  {
   "cell_type": "markdown",
   "id": "367edf00",
   "metadata": {},
   "source": [
    "### Задание 1\n",
    "    даны ветора x = (1, 1), y = (2, 0), z = (0, 2)\n",
    "  - изобразить векторы на экране\n",
    "  - изобразить точку x + y + z\n",
    "  - найти угол между векторами"
   ]
  },
  {
   "cell_type": "code",
   "execution_count": 1,
   "id": "7eab2fce",
   "metadata": {},
   "outputs": [],
   "source": [
    "import numpy as np\n",
    "import matplotlib.pyplot as plt"
   ]
  },
  {
   "cell_type": "code",
   "execution_count": 2,
   "id": "0a4b1204",
   "metadata": {},
   "outputs": [],
   "source": [
    "x = np.array([1, 1])\n",
    "y = np.array([2, 0])\n",
    "z = np.array([0, 2])"
   ]
  },
  {
   "cell_type": "code",
   "execution_count": 3,
   "id": "3f5f2b73",
   "metadata": {},
   "outputs": [
    {
     "data": {
      "image/png": "[encoded data removed]",
      "text/plain": [
       "<Figure size 432x288 with 1 Axes>"
      ]
     },
     "metadata": {
      "needs_background": "light"
     },
     "output_type": "display_data"
    }
   ],
   "source": [
    "plt.figure()\n",
    "\n",
    "plt.plot(x[0], x[1], 'ro')\n",
    "plt.plot(y[0], y[1], 'bo')\n",
    "plt.plot(z[0], z[1], 'go')\n",
    "plt.grid()\n",
    "\n",
    "plt.show()"
   ]
  },
  {
   "cell_type": "code",
   "execution_count": 4,
   "id": "9547fcd6",
   "metadata": {},
   "outputs": [],
   "source": [
    "w = x + y + z"
   ]
  },
  {
   "cell_type": "code",
   "execution_count": 5,
   "id": "8664d456",
   "metadata": {},
   "outputs": [
    {
     "data": {
      "image/png": "[encoded data removed]",
      "text/plain": [
       "<Figure size 432x288 with 1 Axes>"
      ]
     },
     "metadata": {
      "needs_background": "light"
     },
     "output_type": "display_data"
    }
   ],
   "source": [
    "plt.figure()\n",
    "\n",
    "plt.plot(x[0], x[1], 'ro')\n",
    "plt.plot(y[0], y[1], 'bo')\n",
    "plt.plot(z[0], z[1], 'go')\n",
    "plt.plot(w[0], w[1], 'go')\n",
    "plt.grid()\n",
    "\n",
    "plt.show()"
   ]
  },
  {
   "cell_type": "code",
   "execution_count": 10,
   "id": "ea861f40",
   "metadata": {},
   "outputs": [
    {
     "data": {
      "text/plain": [
       "45.00000000000001"
      ]
     },
     "execution_count": 10,
     "metadata": {},
     "output_type": "execute_result"
    }
   ],
   "source": [
    "# угол между x и y\n",
    "np.rad2deg(np.arccos(np.dot(x,y)/(np.linalg.norm(x)*np.linalg.norm(y))))"
   ]
  },
  {
   "cell_type": "code",
   "execution_count": 11,
   "id": "e28282c1",
   "metadata": {},
   "outputs": [
    {
     "data": {
      "text/plain": [
       "90.0"
      ]
     },
     "execution_count": 11,
     "metadata": {},
     "output_type": "execute_result"
    }
   ],
   "source": [
    "# угол между y и z\n",
    "np.rad2deg(np.arccos(np.dot(y,z)/(np.linalg.norm(y)*np.linalg.norm(z))))"
   ]
  },
  {
   "cell_type": "code",
   "execution_count": 12,
   "id": "54d7647b",
   "metadata": {},
   "outputs": [
    {
     "data": {
      "text/plain": [
       "45.00000000000001"
      ]
     },
     "execution_count": 12,
     "metadata": {},
     "output_type": "execute_result"
    }
   ],
   "source": [
    "# угол между x и z\n",
    "np.rad2deg(np.arccos(np.dot(x,z)/(np.linalg.norm(x)*np.linalg.norm(z))))"
   ]
  },
  {
   "cell_type": "markdown",
   "id": "3bdca18f",
   "metadata": {},
   "source": [
    "### Задание 2\n",
    "   \n",
    " - создайте матрицу 3 на 3, заполненную числами от 1 до 9\n",
    " - прибавьте к ней матрицу с единицами на диагонали \n",
    " - умножьте полученную матрицу на вектор (1, 2, 3)\n",
    "  "
   ]
  },
  {
   "cell_type": "code",
   "execution_count": 26,
   "id": "6deeead4",
   "metadata": {},
   "outputs": [
    {
     "data": {
      "text/plain": [
       "array([[1, 2, 3],\n",
       "       [4, 5, 6],\n",
       "       [7, 8, 9]])"
      ]
     },
     "execution_count": 26,
     "metadata": {},
     "output_type": "execute_result"
    }
   ],
   "source": [
    "A1 = np.array([[1,2,3],[4,5,6],[7,8,9]])\n",
    "A1"
   ]
  },
  {
   "cell_type": "code",
   "execution_count": 27,
   "id": "d17107d4",
   "metadata": {},
   "outputs": [
    {
     "data": {
      "text/plain": [
       "array([[1., 0., 0.],\n",
       "       [0., 1., 0.],\n",
       "       [0., 0., 1.]])"
      ]
     },
     "execution_count": 27,
     "metadata": {},
     "output_type": "execute_result"
    }
   ],
   "source": [
    "A2 = np.eye(3)\n",
    "A2"
   ]
  },
  {
   "cell_type": "code",
   "execution_count": 28,
   "id": "d4afe620",
   "metadata": {},
   "outputs": [
    {
     "data": {
      "text/plain": [
       "array([[ 2.,  2.,  3.],\n",
       "       [ 4.,  6.,  6.],\n",
       "       [ 7.,  8., 10.]])"
      ]
     },
     "execution_count": 28,
     "metadata": {},
     "output_type": "execute_result"
    }
   ],
   "source": [
    "A3 = A1 + A2\n",
    "A3"
   ]
  },
  {
   "cell_type": "code",
   "execution_count": 29,
   "id": "dd10b7fe",
   "metadata": {},
   "outputs": [
    {
     "data": {
      "text/plain": [
       "array([1, 2, 3])"
      ]
     },
     "execution_count": 29,
     "metadata": {},
     "output_type": "execute_result"
    }
   ],
   "source": [
    "A4 = np.array([1,2,3])\n",
    "A4\n"
   ]
  },
  {
   "cell_type": "code",
   "execution_count": 30,
   "id": "1ae59fc8",
   "metadata": {},
   "outputs": [
    {
     "data": {
      "text/plain": [
       "array([[ 2.,  4.,  9.],\n",
       "       [ 4., 12., 18.],\n",
       "       [ 7., 16., 30.]])"
      ]
     },
     "execution_count": 30,
     "metadata": {},
     "output_type": "execute_result"
    }
   ],
   "source": [
    "A5 = A3 * A4\n",
    "A5"
   ]
  },
  {
   "cell_type": "code",
   "execution_count": 31,
   "id": "8e98f27d",
   "metadata": {},
   "outputs": [
    {
     "data": {
      "text/plain": [
       "array([15., 34., 53.])"
      ]
     },
     "execution_count": 31,
     "metadata": {},
     "output_type": "execute_result"
    }
   ],
   "source": [
    "A6 = A3 @ A4\n",
    "A6"
   ]
  },
  {
   "cell_type": "markdown",
   "id": "b682c929",
   "metadata": {},
   "source": [
    "### Задание 3\n",
    "      f(x) = 3x (x^2 + x^3)\n",
    "      \n",
    " - Посчитайте значение первой и второй производной функции\n",
    " - В точке x = 1\n",
    " "
   ]
  },
  {
   "cell_type": "code",
   "execution_count": 33,
   "id": "9b40b0ec",
   "metadata": {},
   "outputs": [],
   "source": [
    "import sympy as sym"
   ]
  },
  {
   "cell_type": "code",
   "execution_count": 34,
   "id": "1e0c0a7e",
   "metadata": {},
   "outputs": [],
   "source": [
    "x = sym.Symbol('x')"
   ]
  },
  {
   "cell_type": "code",
   "execution_count": 38,
   "id": "df04772b",
   "metadata": {},
   "outputs": [
    {
     "data": {
      "text/latex": [
       "$\\displaystyle 3 x \\left(x^{3} + x^{2}\\right)$"
      ],
      "text/plain": [
       "3*x*(x**3 + x**2)"
      ]
     },
     "execution_count": 38,
     "metadata": {},
     "output_type": "execute_result"
    }
   ],
   "source": [
    "f  = 3 * x * (x ** 2 + x ** 3)\n",
    "f"
   ]
  },
  {
   "cell_type": "code",
   "execution_count": 41,
   "id": "3e7a1345",
   "metadata": {},
   "outputs": [
    {
     "data": {
      "text/latex": [
       "$\\displaystyle 3 x^{3} + 3 x^{2} + 3 x \\left(3 x^{2} + 2 x\\right)$"
      ],
      "text/plain": [
       "3*x**3 + 3*x**2 + 3*x*(3*x**2 + 2*x)"
      ]
     },
     "execution_count": 41,
     "metadata": {},
     "output_type": "execute_result"
    }
   ],
   "source": [
    "df1 = sym.diff(f,x)\n",
    "df1"
   ]
  },
  {
   "cell_type": "code",
   "execution_count": 42,
   "id": "a2fce1dd",
   "metadata": {},
   "outputs": [
    {
     "data": {
      "text/latex": [
       "$\\displaystyle 6 x \\left(6 x + 3\\right)$"
      ],
      "text/plain": [
       "6*x*(6*x + 3)"
      ]
     },
     "execution_count": 42,
     "metadata": {},
     "output_type": "execute_result"
    }
   ],
   "source": [
    "df2 = sym.diff(f, x, 2)\n",
    "df2"
   ]
  },
  {
   "cell_type": "code",
   "execution_count": 43,
   "id": "61e37b5e",
   "metadata": {},
   "outputs": [
    {
     "data": {
      "text/latex": [
       "$\\displaystyle 21$"
      ],
      "text/plain": [
       "21"
      ]
     },
     "execution_count": 43,
     "metadata": {},
     "output_type": "execute_result"
    }
   ],
   "source": [
    "df1.subs(x,1)"
   ]
  },
  {
   "cell_type": "code",
   "execution_count": 45,
   "id": "5e180643",
   "metadata": {},
   "outputs": [
    {
     "data": {
      "text/latex": [
       "$\\displaystyle 54$"
      ],
      "text/plain": [
       "54"
      ]
     },
     "execution_count": 45,
     "metadata": {},
     "output_type": "execute_result"
    }
   ],
   "source": [
    "df2.subs(x,1)"
   ]
  },
  {
   "cell_type": "code",
   "execution_count": null,
   "id": "d3b3c68e",
   "metadata": {},
   "outputs": [],
   "source": []
  }
 ],
 "metadata": {
  "kernelspec": {
   "display_name": "Python 3",
   "language": "python",
   "name": "python3"
  },
  "language_info": {
   "codemirror_mode": {
    "name": "ipython",
    "version": 3
   },
   "file_extension": ".py",
   "mimetype": "text/x-python",
   "name": "python",
   "nbconvert_exporter": "python",
   "pygments_lexer": "ipython3",
   "version": "3.8.8"
  }
 },
 "nbformat": 4,
 "nbformat_minor": 5
}
