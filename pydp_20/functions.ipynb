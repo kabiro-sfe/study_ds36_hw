{
 "cells": [
  {
   "cell_type": "markdown",
   "metadata": {},
   "source": [
    "# Домашнее задание к лекции \"Функции\""
   ]
  },
  {
   "cell_type": "markdown",
   "metadata": {},
   "source": [
    "Вам нужно помочь секретарю автоматизировать работу. Для этого нужно написать программу, которая будет на основе хранимых данных исполнять пользовательские команды.\n",
    "\n",
    "Исходные данные имеют следующую структуру:\n",
    "\n",
    "1. перечень всех документов\n",
    "```\n",
    "documents = [\n",
    "    {'type': 'passport', 'number': '2207 876234', 'name': 'Василий Гупкин'},\n",
    "    {'type': 'invoice', 'number': '11-2', 'name': 'Геннадий Покемонов'},\n",
    "    {'type': 'insurance', 'number': '10006', 'name': 'Аристарх Павлов'}\n",
    "]\n",
    "```\n",
    "2. перечень полок, на которых хранятся документы (если документ есть в documents, то он обязательно должен быть и в directories)\n",
    "```\n",
    "directories = {\n",
    "    '1': ['2207 876234', '11-2'],\n",
    "    '2': ['10006'],\n",
    "    '3': []\n",
    "}\n",
    "```\n",
    "\n",
    "Общие требования к программе:\n",
    "- код должен быть грамотно декомпозирован (каждая функция отвечает за свою конкретную задачу, дублирующийся функционал переиспользуется, а его код не повторяется);\n",
    "- в коде отсутствуют глобальные переменные (за исключением **documents** и **directories**);\n",
    "- пользовательский ввод обрабатывается в цикле **while** до тех пор, пока пользователь явно не завершит программу (вводом команды \"**q**\")."
   ]
  },
  {
   "cell_type": "code",
   "execution_count": 237,
   "metadata": {},
   "outputs": [],
   "source": [
    "documents = [\n",
    " {'type': 'passport', 'number': '2207 876234', 'name': 'Василий Гупкин'},\n",
    " {'type': 'invoice', 'number': '11-2', 'name': 'Геннадий Покемонов'},\n",
    " {'type': 'insurance', 'number': '10006', 'name': 'Аристарх Павлов'}\n",
    "]"
   ]
  },
  {
   "cell_type": "code",
   "execution_count": 238,
   "metadata": {},
   "outputs": [],
   "source": [
    "directories = {\n",
    " '1': ['2207 876234', '11-2'],\n",
    " '2': ['10006'],\n",
    " '3': []\n",
    "}"
   ]
  },
  {
   "cell_type": "code",
   "execution_count": 1,
   "metadata": {},
   "outputs": [],
   "source": [
    "def comand_func(comand = ''):\n",
    "    \"\"\"\n",
    "    \n",
    "    \"\"\"\n",
    "    while comand != 'q':\n",
    "        comand = input('Введите команду:')\n",
    "        \n",
    "        if comand == 'p':\n",
    "            return show_num_doc() \n",
    "        elif comand == 's':\n",
    "            return show_directory()\n",
    "        elif comand == 'l':\n",
    "            return show_documents()\n",
    "        elif comand == 'ads':\n",
    "            return add_directory()\n",
    "        elif comand == 'ds':\n",
    "            return del_directory()\n",
    "        elif comand == 'ad':\n",
    "            return add_document()\n",
    "        elif comand == 'd':\n",
    "            return del_document()\n",
    "        elif comand == 'm':\n",
    "            return move_directory()\n",
    "        elif comand == 'q':\n",
    "            print('Завершение программы')"
   ]
  },
  {
   "cell_type": "code",
   "execution_count": 240,
   "metadata": {},
   "outputs": [],
   "source": [
    "def count_dir():\n",
    "    return ', '.join(list(str(int(x)) for x in directories.keys()))"
   ]
  },
  {
   "cell_type": "code",
   "execution_count": 242,
   "metadata": {},
   "outputs": [
    {
     "name": "stdout",
     "output_type": "stream",
     "text": [
      "Введите команду:y\n",
      "Введите команду:k\n",
      "Введите команду:g\n",
      "Введите команду:q\n",
      "Завершение программы\n"
     ]
    }
   ],
   "source": [
    "comand_func()"
   ]
  },
  {
   "cell_type": "markdown",
   "metadata": {},
   "source": [
    "## Задание 1\n",
    "\n",
    "### Пункт 1. Пользователь по команде \"*p*\" может узнать владельца документа по его номеру\n",
    "\n",
    "Примеры работы:\n",
    "\n",
    "1.\n",
    "\n",
    "```\n",
    "Введите команду:\n",
    "p\n",
    "\n",
    "Введите номер документа:\n",
    "10006\n",
    "```\n",
    "Результат:  \n",
    "`Владелец документа: Аристарх Павлов`\n",
    "\n",
    "2.\n",
    "```\n",
    "Введите команду:\n",
    "p\n",
    "\n",
    "Введите номер документа:\n",
    "12345\n",
    "```\n",
    "Результат:  \n",
    "`Документ не найден в базе`"
   ]
  },
  {
   "cell_type": "code",
   "execution_count": 243,
   "metadata": {},
   "outputs": [],
   "source": [
    "def show_num_doc ():\n",
    "    \n",
    "    num_doc = input('Введите номер документа:')\n",
    "    \n",
    "    for el in documents:\n",
    "        if el['number'] == num_doc:\n",
    "            return 'Владелец документа: ' + el['name']\n",
    "        \n",
    "    return f'Документ не найден в базе'"
   ]
  },
  {
   "cell_type": "code",
   "execution_count": 244,
   "metadata": {
    "scrolled": true
   },
   "outputs": [
    {
     "name": "stdout",
     "output_type": "stream",
     "text": [
      "Введите команду:p\n",
      "Введите номер документа:11-2\n"
     ]
    },
    {
     "data": {
      "text/plain": [
       "'Владелец документа: Геннадий Покемонов'"
      ]
     },
     "execution_count": 244,
     "metadata": {},
     "output_type": "execute_result"
    }
   ],
   "source": [
    "comand_func()\n"
   ]
  },
  {
   "cell_type": "code",
   "execution_count": 245,
   "metadata": {},
   "outputs": [
    {
     "name": "stdout",
     "output_type": "stream",
     "text": [
      "Введите команду:p\n",
      "Введите номер документа:67867\n"
     ]
    },
    {
     "data": {
      "text/plain": [
       "'Документ не найден в базе'"
      ]
     },
     "execution_count": 245,
     "metadata": {},
     "output_type": "execute_result"
    }
   ],
   "source": [
    "comand_func()"
   ]
  },
  {
   "cell_type": "markdown",
   "metadata": {},
   "source": [
    "### Пункт 2. Пользователь по команде \"*s*\" может по номеру документа узнать на какой полке он хранится\n",
    "\n",
    "Примеры работы:\n",
    "\n",
    "1.\n",
    "\n",
    "```\n",
    "Введите команду:\n",
    "s\n",
    "\n",
    "Введите номер документа:\n",
    "10006\n",
    "```\n",
    "Результат:  \n",
    "`Документ хранится на полке: 2`\n",
    "\n",
    "2.\n",
    "```\n",
    "Введите команду:\n",
    "p\n",
    "\n",
    "Введите номер документа:\n",
    "12345\n",
    "```\n",
    "Результат:  \n",
    "`Документ не найден в базе`"
   ]
  },
  {
   "cell_type": "code",
   "execution_count": 246,
   "metadata": {},
   "outputs": [],
   "source": [
    "def show_directory ():\n",
    "    \n",
    "    num_doc = input('Введите номер документа:')\n",
    "    \n",
    "    for key, el in directories.items():\n",
    "        if num_doc in el:\n",
    "            return f'Документ хранится на полке: {key}'\n",
    "\n",
    "    return f'Документ не найден в базе'"
   ]
  },
  {
   "cell_type": "code",
   "execution_count": 247,
   "metadata": {},
   "outputs": [
    {
     "name": "stdout",
     "output_type": "stream",
     "text": [
      "Введите команду:s\n",
      "Введите номер документа:11-2\n"
     ]
    },
    {
     "data": {
      "text/plain": [
       "'Документ хранится на полке: 1'"
      ]
     },
     "execution_count": 247,
     "metadata": {},
     "output_type": "execute_result"
    }
   ],
   "source": [
    "comand_func()"
   ]
  },
  {
   "cell_type": "code",
   "execution_count": 248,
   "metadata": {},
   "outputs": [
    {
     "name": "stdout",
     "output_type": "stream",
     "text": [
      "Введите команду:s\n",
      "Введите номер документа:567567\n"
     ]
    },
    {
     "data": {
      "text/plain": [
       "'Документ не найден в базе'"
      ]
     },
     "execution_count": 248,
     "metadata": {},
     "output_type": "execute_result"
    }
   ],
   "source": [
    "comand_func()"
   ]
  },
  {
   "cell_type": "markdown",
   "metadata": {},
   "source": [
    "### Пункт 3. Пользователь по команде \"*l*\" может увидеть полную информацию по всем документам\n",
    "\n",
    "Пример работы:\n",
    "\n",
    "```\n",
    "Введите команду:\n",
    "l\n",
    "```\n",
    "\n",
    "Результат:  \n",
    "```\n",
    "№: 2207 876234, тип: passport, владелец: Василий Гупкин, полка хранения: 1\n",
    "№: 11-2, тип: invoice, владелец: Геннадий Покемонов, полка хранения: 1\n",
    "№: 10006, тип: insurance, владелец: Аристарх Павлов, полка хранения: 2\n",
    "```"
   ]
  },
  {
   "cell_type": "code",
   "execution_count": 249,
   "metadata": {},
   "outputs": [],
   "source": [
    "def show_documents():\n",
    "    \n",
    "    for el in documents:\n",
    "        type_doc, num_doc, name_doc = el.values()\n",
    "        for el_2 in directories.items():\n",
    "            if len(el_2[1]) >= 1 and num_doc in el_2[1]:\n",
    "                print(f'№: {num_doc}, тип: {type_doc}, владелец: {name_doc}, полка хранения: {el_2[0]}')"
   ]
  },
  {
   "cell_type": "code",
   "execution_count": 250,
   "metadata": {},
   "outputs": [
    {
     "name": "stdout",
     "output_type": "stream",
     "text": [
      "Введите команду:l\n",
      "№: 2207 876234, тип: passport, владелец: Василий Гупкин, полка хранения: 1\n",
      "№: 11-2, тип: invoice, владелец: Геннадий Покемонов, полка хранения: 1\n",
      "№: 10006, тип: insurance, владелец: Аристарх Павлов, полка хранения: 2\n"
     ]
    }
   ],
   "source": [
    "comand_func()"
   ]
  },
  {
   "cell_type": "markdown",
   "metadata": {},
   "source": [
    "### Пункт 4. Пользователь по команде \"*ads*\" может добавить новую полку\n",
    "\n",
    "Примеры работы:\n",
    "\n",
    "1.\n",
    "\n",
    "```\n",
    "Введите команду:\n",
    "ads\n",
    "\n",
    "Введите номер полки:\n",
    "10\n",
    "```\n",
    "Результат:  \n",
    "`Полка добавлена. Текущий перечень полок: 1, 2, 3, 10.`\n",
    "\n",
    "2.\n",
    "```\n",
    "Введите команду:\n",
    "ads\n",
    "\n",
    "Введите номер полки:\n",
    "1\n",
    "```\n",
    "Результат:  \n",
    "`Такая полка уже существует. Текущий перечень полок: 1, 2, 3.`"
   ]
  },
  {
   "cell_type": "code",
   "execution_count": 251,
   "metadata": {},
   "outputs": [],
   "source": [
    "def add_directory():\n",
    "\n",
    "    num_dir_add = input('Введите номер полки:')\n",
    "\n",
    "    if num_dir_add not in directories.keys():\n",
    "        directories[num_dir_add] = []\n",
    "        return f'Полка добавлена. Текущий перечень полок: {count_dir()}.'\n",
    "    else:\n",
    "        return f'Такая полка уже существует. Текущий перечень полок: {count_dir()}.'"
   ]
  },
  {
   "cell_type": "code",
   "execution_count": 252,
   "metadata": {},
   "outputs": [
    {
     "name": "stdout",
     "output_type": "stream",
     "text": [
      "Введите команду:ads\n",
      "Введите номер полки:45\n"
     ]
    },
    {
     "data": {
      "text/plain": [
       "'Полка добавлена. Текущий перечень полок: 1, 2, 3, 45.'"
      ]
     },
     "execution_count": 252,
     "metadata": {},
     "output_type": "execute_result"
    }
   ],
   "source": [
    "comand_func()"
   ]
  },
  {
   "cell_type": "code",
   "execution_count": 253,
   "metadata": {},
   "outputs": [
    {
     "name": "stdout",
     "output_type": "stream",
     "text": [
      "Введите команду:ads\n",
      "Введите номер полки:2\n"
     ]
    },
    {
     "data": {
      "text/plain": [
       "'Такая полка уже существует. Текущий перечень полок: 1, 2, 3, 45.'"
      ]
     },
     "execution_count": 253,
     "metadata": {},
     "output_type": "execute_result"
    }
   ],
   "source": [
    "comand_func()"
   ]
  },
  {
   "cell_type": "markdown",
   "metadata": {},
   "source": [
    "### Пункт 5. Пользователь по команде \"*ds*\" может удалить существующую полку из данных (только если она пустая)\n",
    "\n",
    "Примеры работы:\n",
    "\n",
    "1.\n",
    "\n",
    "```\n",
    "Введите команду:\n",
    "ds\n",
    "\n",
    "Введите номер полки:\n",
    "3\n",
    "```\n",
    "Результат:  \n",
    "`Полка удалена. Текущий перечень полок: 1, 2.`\n",
    "\n",
    "2.\n",
    "```\n",
    "Введите команду:\n",
    "ds\n",
    "\n",
    "Введите номер полки:\n",
    "1\n",
    "```\n",
    "Результат:  \n",
    "`На полке есть документа, удалите их перед удалением полки. Текущий перечень полок: 1, 2, 3.`\n",
    "\n",
    "3.\n",
    "```\n",
    "Введите команду:\n",
    "ds\n",
    "\n",
    "Введите номер полки:\n",
    "4\n",
    "```\n",
    "Результат:  \n",
    "`Такой полки не существует. Текущий перечень полок: 1, 2, 3.`"
   ]
  },
  {
   "cell_type": "code",
   "execution_count": 254,
   "metadata": {},
   "outputs": [],
   "source": [
    "def del_directory ():\n",
    "    \n",
    "    num_dir_del = input('Введите номер полки:')\n",
    "    \n",
    "    if num_dir_del in list(directories.keys()) and len(directories[num_dir_del]) == 0:\n",
    "        del(directories[num_dir_del])\n",
    "        return f'Полка удалена. Текущий перечень полок: {count_dir()}.'\n",
    "    elif num_dir_del in list(directories.keys()) and len(directories[num_dir_del]) > 0:\n",
    "        return f'На полке есть документа, удалите их перед удалением полки. Текущий перечень полок: {count_dir()}.'\n",
    "    else:\n",
    "        return f'Такой полки не существует. Текущий перечень полок: {count_dir()}.'"
   ]
  },
  {
   "cell_type": "code",
   "execution_count": 256,
   "metadata": {},
   "outputs": [
    {
     "name": "stdout",
     "output_type": "stream",
     "text": [
      "Введите команду:ds\n",
      "Введите номер полки:45\n"
     ]
    },
    {
     "data": {
      "text/plain": [
       "'Полка удалена. Текущий перечень полок: 1, 2, 3.'"
      ]
     },
     "execution_count": 256,
     "metadata": {},
     "output_type": "execute_result"
    }
   ],
   "source": [
    "comand_func()"
   ]
  },
  {
   "cell_type": "code",
   "execution_count": 257,
   "metadata": {},
   "outputs": [
    {
     "name": "stdout",
     "output_type": "stream",
     "text": [
      "Введите команду:ds\n",
      "Введите номер полки:2\n"
     ]
    },
    {
     "data": {
      "text/plain": [
       "'На полке есть документа, удалите их перед удалением полки. Текущий перечень полок: 1, 2, 3.'"
      ]
     },
     "execution_count": 257,
     "metadata": {},
     "output_type": "execute_result"
    }
   ],
   "source": [
    "comand_func()"
   ]
  },
  {
   "cell_type": "code",
   "execution_count": 258,
   "metadata": {},
   "outputs": [
    {
     "name": "stdout",
     "output_type": "stream",
     "text": [
      "Введите команду:ds\n",
      "Введите номер полки:6\n"
     ]
    },
    {
     "data": {
      "text/plain": [
       "'Такой полки не существует. Текущий перечень полок: 1, 2, 3.'"
      ]
     },
     "execution_count": 258,
     "metadata": {},
     "output_type": "execute_result"
    }
   ],
   "source": [
    "comand_func()"
   ]
  },
  {
   "cell_type": "markdown",
   "metadata": {},
   "source": [
    "## Задание 2 (необязательное)\n",
    "\n",
    "Вам необходимо дополнить программу из задания 1 более продвинутыми командами.\n",
    "\n",
    "### Пункт 1. Пользователь по команде \"*ad*\" может добавить новый документ в данные\n",
    "\n",
    "Примеры работы:\n",
    "\n",
    "1.\n",
    "\n",
    "```\n",
    "Введите команду:\n",
    "ad\n",
    "\n",
    "Введите номер документа:\n",
    "42\n",
    "Введите тип документа:\n",
    "multipassport\n",
    "Введите владельца документа:\n",
    "R2D2\n",
    "Введите полку для хранения:\n",
    "3\n",
    "```\n",
    "Результат:  \n",
    "```\n",
    "Документ добавлен. Текущий список документов:\n",
    "№: 2207 876234, тип: passport, владелец: Василий Гупкин, полка хранения: 1\n",
    "№: 11-2, тип: invoice, владелец: Геннадий Покемонов, полка хранения: 1\n",
    "№: 10006, тип: insurance, владелец: Аристарх Павлов, полка хранения: 2\n",
    "№: 42, тип: multipassport, владелец: R2D2, полка хранения: 3\n",
    "```\n",
    "\n",
    "2.\n",
    "```\n",
    "Введите команду:\n",
    "ad\n",
    "\n",
    "Введите номер документа:\n",
    "42\n",
    "Введите тип документа:\n",
    "multipassport\n",
    "Введите владельца документа:\n",
    "R2D2\n",
    "Введите полку для хранения:\n",
    "4\n",
    "```\n",
    "Результат:  \n",
    "```\n",
    "Такой полки не существует. Добавьте полку командой as. \n",
    "Текущий список документов:\n",
    "№: 2207 876234, тип: passport, владелец: Василий Гупкин, полка хранения: 1\n",
    "№: 11-2, тип: invoice, владелец: Геннадий Покемонов, полка хранения: 1\n",
    "№: 10006, тип: insurance, владелец: Аристарх Павлов, полка хранения: 2\n",
    "```"
   ]
  },
  {
   "cell_type": "code",
   "execution_count": 259,
   "metadata": {},
   "outputs": [],
   "source": [
    "def add_document ():\n",
    "    num_doc = input('Введите номер документа:')\n",
    "    type_doc = input('Введите тип документа:')\n",
    "    name_doc = input('Введите владельца документа:')\n",
    "    num_directory = input('Введите полку для хранения:')\n",
    "    \n",
    "    if num_directory in list(directories.keys()):\n",
    "        el_dic = {'type': type_doc, 'number': num_doc, 'name': name_doc}\n",
    "        documents.append(el_dic)\n",
    "        directories[num_directory].append(num_doc)\n",
    "        print()\n",
    "        print(f'Документ добавлен. Текущий список документов:')\n",
    "        show_documents()\n",
    "         \n",
    "    else:\n",
    "        print()\n",
    "        print('Такой полки не существует. Добавьте полку командой ds.')\n",
    "        print('Текущий список документов: ')\n",
    "        show_documents()   "
   ]
  },
  {
   "cell_type": "code",
   "execution_count": 260,
   "metadata": {},
   "outputs": [
    {
     "name": "stdout",
     "output_type": "stream",
     "text": [
      "Введите команду:ad\n",
      "Введите номер документа:98765\n",
      "Введите тип документа:passport\n",
      "Введите владельца документа:Utkina\n",
      "Введите полку для хранения:3\n",
      "\n",
      "Документ добавлен. Текущий список документов:\n",
      "№: 2207 876234, тип: passport, владелец: Василий Гупкин, полка хранения: 1\n",
      "№: 11-2, тип: invoice, владелец: Геннадий Покемонов, полка хранения: 1\n",
      "№: 10006, тип: insurance, владелец: Аристарх Павлов, полка хранения: 2\n",
      "№: 98765, тип: passport, владелец: Utkina, полка хранения: 3\n"
     ]
    }
   ],
   "source": [
    "comand_func()"
   ]
  },
  {
   "cell_type": "code",
   "execution_count": 261,
   "metadata": {},
   "outputs": [
    {
     "name": "stdout",
     "output_type": "stream",
     "text": [
      "Введите команду:ad\n",
      "Введите номер документа:2345\n",
      "Введите тип документа:passport\n",
      "Введите владельца документа:No Utkina\n",
      "Введите полку для хранения:67\n",
      "\n",
      "Такой полки не существует. Добавьте полку командой ds.\n",
      "Текущий список документов: \n",
      "№: 2207 876234, тип: passport, владелец: Василий Гупкин, полка хранения: 1\n",
      "№: 11-2, тип: invoice, владелец: Геннадий Покемонов, полка хранения: 1\n",
      "№: 10006, тип: insurance, владелец: Аристарх Павлов, полка хранения: 2\n",
      "№: 98765, тип: passport, владелец: Utkina, полка хранения: 3\n"
     ]
    }
   ],
   "source": [
    "comand_func()"
   ]
  },
  {
   "cell_type": "markdown",
   "metadata": {},
   "source": [
    "### Пункт 2. Пользователь по команде \"*d*\" может удалить документ из данных\n",
    "\n",
    "Примеры работы:\n",
    "\n",
    "1.\n",
    "\n",
    "```\n",
    "Введите команду:\n",
    "d\n",
    "\n",
    "Введите номер документа:\n",
    "10006\n",
    "```\n",
    "Результат:  \n",
    "```\n",
    "Документ удален. \n",
    "Текущий список документов:\n",
    "№: 2207 876234, тип: passport, владелец: Василий Гупкин, полка хранения: 1\n",
    "№: 11-2, тип: invoice, владелец: Геннадий Покемонов, полка хранения: 1\n",
    "```\n",
    "\n",
    "2.\n",
    "```\n",
    "Введите команду:\n",
    "d\n",
    "\n",
    "Введите номер документа:\n",
    "123456\n",
    "```\n",
    "Результат:  \n",
    "```\n",
    "Документ не найден в базе. \n",
    "Текущий список документов:\n",
    "№: 2207 876234, тип: passport, владелец: Василий Гупкин, полка хранения: 1\n",
    "№: 11-2, тип: invoice, владелец: Геннадий Покемонов, полка хранения: 1\n",
    "№: 10006, тип: insurance, владелец: Аристарх Павлов, полка хранения: 2\n",
    "```"
   ]
  },
  {
   "cell_type": "code",
   "execution_count": 262,
   "metadata": {},
   "outputs": [],
   "source": [
    "def del_document():\n",
    "    \n",
    "    num_doc = input('Введите номер документа:')\n",
    "    \n",
    "    if num_doc in [x['number'] for x in documents]:\n",
    "    \n",
    "        for index in range(len(documents)):\n",
    "            if documents[index]['number'] == num_doc:\n",
    "                for_del = index\n",
    "                \n",
    "        del(documents[for_del])\n",
    "        \n",
    "        for el in directories.values():\n",
    "            if num_doc in el:\n",
    "                el.remove(num_doc)   \n",
    "                \n",
    "        print()\n",
    "        print('Документ удален. ')\n",
    "        print('Текущий список документов:')\n",
    "        show_documents()\n",
    "\n",
    "    else:\n",
    "        print()\n",
    "        print('Документ не найден в базе.')\n",
    "        print('Текущий список документов:')\n",
    "        show_documents()"
   ]
  },
  {
   "cell_type": "code",
   "execution_count": 263,
   "metadata": {},
   "outputs": [
    {
     "name": "stdout",
     "output_type": "stream",
     "text": [
      "Введите команду:d\n",
      "Введите номер документа:11-2\n",
      "\n",
      "Документ удален. \n",
      "Текущий список документов:\n",
      "№: 2207 876234, тип: passport, владелец: Василий Гупкин, полка хранения: 1\n",
      "№: 10006, тип: insurance, владелец: Аристарх Павлов, полка хранения: 2\n",
      "№: 98765, тип: passport, владелец: Utkina, полка хранения: 3\n"
     ]
    }
   ],
   "source": [
    "comand_func()"
   ]
  },
  {
   "cell_type": "code",
   "execution_count": 264,
   "metadata": {},
   "outputs": [
    {
     "data": {
      "text/plain": [
       "{'1': ['2207 876234'], '2': ['10006'], '3': ['98765']}"
      ]
     },
     "execution_count": 264,
     "metadata": {},
     "output_type": "execute_result"
    }
   ],
   "source": [
    "directories"
   ]
  },
  {
   "cell_type": "markdown",
   "metadata": {},
   "source": [
    "### Пункт 3. Пользователь по команде \"*m*\" может переместить документ с полки на полку\n",
    "\n",
    "Примеры работы:\n",
    "\n",
    "1.\n",
    "\n",
    "```\n",
    "Введите команду:\n",
    "m\n",
    "\n",
    "Введите номер документа:\n",
    "11-2\n",
    "Введите номер полки:\n",
    "3\n",
    "```\n",
    "Результат:  \n",
    "```\n",
    "Документ перемещен. \n",
    "Текущий список документов:\n",
    "№: 2207 876234, тип: passport, владелец: Василий Гупкин, полка хранения: 1\n",
    "№: 11-2, тип: invoice, владелец: Геннадий Покемонов, полка хранения: 3\n",
    "№: 10006, тип: insurance, владелец: Аристарх Павлов, полка хранения: 2\n",
    "```\n",
    "\n",
    "2.\n",
    "```\n",
    "Введите команду:\n",
    "m\n",
    "\n",
    "Введите номер документа:\n",
    "11-2\n",
    "Введите номер полки:\n",
    "10\n",
    "```\n",
    "Результат:  \n",
    "`Такой полки не существует. Текущий перечень полок: 1, 2, 3.`\n",
    "\n",
    "3.\n",
    "```\n",
    "Введите команду:\n",
    "m\n",
    "\n",
    "Введите номер документа:\n",
    "42\n",
    "Введите номер полки:\n",
    "2\n",
    "```\n",
    "Результат:  \n",
    "```\n",
    "Документ не найден в базе. \n",
    "Текущий список документов:\n",
    "№: 2207 876234, тип: passport, владелец: Василий Гупкин, полка хранения: 1\n",
    "№: 11-2, тип: invoice, владелец: Геннадий Покемонов, полка хранения: 1\n",
    "№: 10006, тип: insurance, владелец: Аристарх Павлов, полка хранения: 2\n",
    "```"
   ]
  },
  {
   "cell_type": "code",
   "execution_count": 305,
   "metadata": {},
   "outputs": [],
   "source": [
    "def move_directory ():\n",
    "\n",
    "    num_doc = input('Введите номер документа: ')\n",
    "    num_directory = input('Введите номер полки: ')\n",
    "\n",
    "    if num_directory in directories.keys() and num_doc in [x['number'] for x in documents]:\n",
    "\n",
    "        for el in directories.values():\n",
    "            if num_doc in el:\n",
    "                el.remove(num_doc)\n",
    "\n",
    "        directories[num_directory].append(num_doc)\n",
    "        \n",
    "        print('Документ перемещен.')\n",
    "        print('Текущий список документов:')\n",
    "        show_documents()\n",
    "        \n",
    "    elif num_doc not in [x['number'] for x in documents] :\n",
    "        print()\n",
    "        print('Документ не найден в базе.')\n",
    "        print('Текущий список документов:')\n",
    "        show_documents()\n",
    "        \n",
    "    elif num_directory not in directories.keys():\n",
    "        print()\n",
    "        print(f'Такой полки не существует. Текущий перечень полок: {count_dir()}')\n",
    "    \n",
    "        "
   ]
  },
  {
   "cell_type": "code",
   "execution_count": 296,
   "metadata": {
    "scrolled": true
   },
   "outputs": [
    {
     "name": "stdout",
     "output_type": "stream",
     "text": [
      "Введите команду:m\n",
      "Введите номер документа: 10006\n",
      "Введите номер полки: 1\n",
      "Документ перемещен.\n",
      "Текущий список документов:\n",
      "№: 2207 876234, тип: passport, владелец: Василий Гупкин, полка хранения: 1\n",
      "№: 10006, тип: insurance, владелец: Аристарх Павлов, полка хранения: 1\n",
      "№: 98765, тип: passport, владелец: Utkina, полка хранения: 3\n"
     ]
    }
   ],
   "source": [
    "comand_func()"
   ]
  },
  {
   "cell_type": "code",
   "execution_count": 300,
   "metadata": {
    "scrolled": true
   },
   "outputs": [
    {
     "name": "stdout",
     "output_type": "stream",
     "text": [
      "Введите команду:m\n",
      "Введите номер документа: 123\n",
      "Введите номер полки: 2\n",
      "\n",
      "Документ не найден в базе.\n",
      "Текущий список документов:\n",
      "№: 2207 876234, тип: passport, владелец: Василий Гупкин, полка хранения: 1\n",
      "№: 10006, тип: insurance, владелец: Аристарх Павлов, полка хранения: 1\n",
      "№: 98765, тип: passport, владелец: Utkina, полка хранения: 3\n"
     ]
    }
   ],
   "source": [
    "comand_func()"
   ]
  },
  {
   "cell_type": "code",
   "execution_count": 304,
   "metadata": {
    "scrolled": true
   },
   "outputs": [
    {
     "name": "stdout",
     "output_type": "stream",
     "text": [
      "Введите команду:m\n",
      "Введите номер документа: 10006\n",
      "Введите номер полки: 45\n",
      "\n",
      "Такой полки не существует. 1, 2, 3\n"
     ]
    }
   ],
   "source": [
    "comand_func()"
   ]
  },
  {
   "cell_type": "markdown",
   "metadata": {},
   "source": [
    "#### ПРИМЕЧАНИЕ\n",
    "Домашнее задание сдается ссылкой на репозиторий [GitHub](https://github.com/).\n",
    "Не сможем проверить или помочь, если вы пришлете:\n",
    "- файлы;\n",
    "- архивы;\n",
    "- скриншоты кода.\n",
    "\n",
    "Все обсуждения и консультации по выполнению домашнего задания ведутся только на соответствующем канале в slack.\n",
    "\n",
    "##### Как правильно задавать вопросы аспирантам, преподавателям и коллегам\n",
    "Прежде чем задать вопрос, попробуйте найти ответ в интернете. Навык самостоятельного поиска информации — один из важнейших. Каждый практикующий специалист любого уровня делает это ежедневно.\n",
    "\n",
    "Сформулируйте вопрос по алгоритму:  \n",
    "1) Что я делаю?  \n",
    "2) Какого результата я ожидаю?  \n",
    "3) Как фактический результат отличается от ожидаемого?  \n",
    "4) Что я уже попробовал сделать, чтобы исправить проблему?  \n",
    "\n",
    "По возможности прикрепите к вопросу скриншоты либо ссылки на код. Не выкладывайте все решение, оставляйте только проблемный и воспроизводимый участок кода."
   ]
  }
 ],
 "metadata": {
  "kernelspec": {
   "display_name": "Python 3",
   "language": "python",
   "name": "python3"
  },
  "language_info": {
   "codemirror_mode": {
    "name": "ipython",
    "version": 3
   },
   "file_extension": ".py",
   "mimetype": "text/x-python",
   "name": "python",
   "nbconvert_exporter": "python",
   "pygments_lexer": "ipython3",
   "version": "3.8.8"
  }
 },
 "nbformat": 4,
 "nbformat_minor": 2
}
