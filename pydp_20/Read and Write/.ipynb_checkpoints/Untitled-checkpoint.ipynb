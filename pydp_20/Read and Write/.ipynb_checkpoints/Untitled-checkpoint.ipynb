{
 "cells": [
  {
   "cell_type": "markdown",
   "id": "5293135a",
   "metadata": {},
   "source": [
    "1 Переведите содержимое файла purchase_log.txt в словарь purchases вида:\n",
    "{‘1840e0b9d4’: ‘Продукты’, …}\n",
    "2 Для каждого user_id в файле visit_log.csv определите третий столбец с категорией покупки (если покупка была, сам файл visit_log.csv изменять не надо). Запишите в файл funnel.csv визиты из файла visit_log.csv, в которых были покупки с указанием категории.\n",
    "Учтите условия на данные:\n",
    "содержимое purchase_log.txt помещается в оперативную память компьютера\n",
    "содержимое visit_log.csv - нет; используйте только построчную обработку этого файла"
   ]
  },
  {
   "cell_type": "code",
   "execution_count": 110,
   "id": "c5940d95",
   "metadata": {},
   "outputs": [],
   "source": [
    "import json\n",
    "\n",
    "#преобразование в словарь\n",
    "purchase_log_save = {}\n",
    "with open('purchase_log.txt') as log_f:\n",
    "    next(log_f) #пропуск первой строки\n",
    "    for line in log_f:\n",
    "        line_d = json.loads(line.strip())\n",
    "        purchase_log_save[line_d['user_id']] = line_d['category']\n",
    "\n",
    "#записи в фаил\n",
    "with open('visit_log.csv', 'r') as vis_f:\n",
    "    with open('funnel.csv', 'w') as fun_f:\n",
    "        for line in vis_f:\n",
    "            item = line.strip().split(',')[0]\n",
    "            if item in purchase_log_save.keys():\n",
    "                next_str = line.strip() + ',' + purchase_log_save[item] + '\\n'\n",
    "                fun_f.write(next_str)"
   ]
  },
  {
   "cell_type": "code",
   "execution_count": 111,
   "id": "dfcbc9f2",
   "metadata": {},
   "outputs": [
    {
     "name": "stdout",
     "output_type": "stream",
     "text": [
      "1840e0b9d4 ,  Продукты\n",
      "4e4f90fcfb ,  Электроника\n",
      "afea8d72fc ,  Электроника\n",
      "373a6055fe ,  Бытовая техника\n",
      "9b2ab046f3 ,  Электроника\n"
     ]
    }
   ],
   "source": [
    "#словарь \n",
    "\n",
    "count = 0\n",
    "for key, value in purchase_log_save.items():\n",
    "    print(key, ', ', value)\n",
    "    count += 1\n",
    "    \n",
    "    if count > 4:\n",
    "        break"
   ]
  },
  {
   "cell_type": "code",
   "execution_count": 1,
   "id": "82bbd0e2",
   "metadata": {},
   "outputs": [
    {
     "name": "stdout",
     "output_type": "stream",
     "text": [
      "1840e0b9d4,other,Продукты\r\n",
      "4e4f90fcfb,context,Электроника\r\n",
      "afea8d72fc,other,Электроника\r\n",
      "2824221f38,email,Продукты\r\n",
      "373a6055fe,other,Бытовая техника\r\n",
      "9b2ab046f3,other,Электроника\r\n",
      "9f39d307c3,context,Электроника\r\n",
      "44edeffc91,context,Продукты\r\n",
      "704474fa2d,other,Продукты\r\n",
      "1de31be403,other,Бытовая техника\r\n"
     ]
    }
   ],
   "source": [
    "!head funnel.csv"
   ]
  },
  {
   "cell_type": "code",
   "execution_count": null,
   "id": "3a9a8096",
   "metadata": {},
   "outputs": [],
   "source": []
  }
 ],
 "metadata": {
  "kernelspec": {
   "display_name": "Python 3",
   "language": "python",
   "name": "python3"
  },
  "language_info": {
   "codemirror_mode": {
    "name": "ipython",
    "version": 3
   },
   "file_extension": ".py",
   "mimetype": "text/x-python",
   "name": "python",
   "nbconvert_exporter": "python",
   "pygments_lexer": "ipython3",
   "version": "3.8.8"
  }
 },
 "nbformat": 4,
 "nbformat_minor": 5
}
