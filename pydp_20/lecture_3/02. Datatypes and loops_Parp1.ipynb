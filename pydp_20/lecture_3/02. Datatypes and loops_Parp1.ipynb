{
 "cells": [
  {
   "cell_type": "markdown",
   "id": "28cf6f41",
   "metadata": {},
   "source": [
    "### Задание 1\n",
    "Дана переменная, в которой хранится слово из латинских букв. Напишите код, который выводит на экран:\n",
    "\n",
    "среднюю букву, если число букв в слове нечетное;\n",
    "две средних буквы, если число букв четное.\n",
    "Примеры работы программы:\n",
    "\n",
    "word = ‘test’\n",
    "Результат:\n",
    "es\n",
    "\n",
    "word = ‘testing’\n",
    "Результат:\n",
    "t"
   ]
  },
  {
   "cell_type": "code",
   "execution_count": 7,
   "id": "ca4e1c7d",
   "metadata": {},
   "outputs": [
    {
     "name": "stdout",
     "output_type": "stream",
     "text": [
      "чет  es\n"
     ]
    }
   ],
   "source": [
    "word = 'test'\n",
    "l = len(word)\n",
    "l2 = l //2\n",
    "if len(word) % 2 == 0:\n",
    "    print('чет ', word[(l2-1):-l2+1])\n",
    "else:\n",
    "    len(word)\n",
    "    print('нечет ', word[l2])"
   ]
  },
  {
   "cell_type": "markdown",
   "id": "196f7e7f",
   "metadata": {},
   "source": [
    "### Задание 2\n",
    "Напишите программу, которая последовательно запрашивает у пользователя числа (по одному за раз) и после первого нуля выводит сумму всех ранее введенных чисел.\n",
    "\n",
    "Примеры работы программы:\n",
    "\n",
    "Введите число:\n",
    "1\n",
    "\n",
    "Введите число:\n",
    "4\n",
    "\n",
    "Введите число:\n",
    "6\n",
    "\n",
    "Введите число:\n",
    "0\n",
    "Результат:\n",
    "11\n",
    "\n",
    "Введите число:\n",
    "0\n",
    "Результат:\n",
    "0"
   ]
  },
  {
   "cell_type": "code",
   "execution_count": 9,
   "id": "f856144e",
   "metadata": {},
   "outputs": [
    {
     "name": "stdout",
     "output_type": "stream",
     "text": [
      "Введите число: 5\n",
      "Введите число: 1\n",
      "Введите число: 7\n",
      "Введите число: 5\n",
      "Введите число: 0\n",
      "Результат : 18\n"
     ]
    }
   ],
   "source": [
    "x = 1\n",
    "res = 0\n",
    "while x != 0:\n",
    "    x = int(input('Введите число: '))\n",
    "    res = res + x\n",
    "print ('Результат :', res)"
   ]
  },
  {
   "cell_type": "markdown",
   "id": "5e6054bb",
   "metadata": {},
   "source": [
    "Задание 3\n",
    "Мы делаем MVP dating-сервиса, и у нас есть список парней и девушек.\n",
    "Выдвигаем гипотезу: лучшие рекомендации мы получим, если просто отсортируем имена по алфавиту и познакомим людей с одинаковыми индексами после сортировки! Но мы не будем никого знакомить, если кто-то может остаться без пары:\n",
    "Примеры работы программы:\n",
    "boys = ['Peter', 'Alex', 'John', 'Arthur', 'Richard']\n",
    "girls = ['Kate', 'Liza', 'Kira', 'Emma', 'Trisha']\n",
    "Результат:\n",
    "Идеальные пары:  \n",
    "Alex и Emma  \n",
    "Arthur и Kate  \n",
    "John и Kira  \n",
    "Peter и Liza  \n",
    "Richard и Trisha\n",
    "boys = ['Peter', 'Alex', 'John', 'Arthur', 'Richard', 'Michael']\n",
    "girls = ['Kate', 'Liza', 'Kira', 'Emma', 'Trisha']\n",
    "Результат:\n",
    "Внимание, кто-то может остаться без пары!"
   ]
  },
  {
   "cell_type": "code",
   "execution_count": 2,
   "id": "b340b740",
   "metadata": {},
   "outputs": [
    {
     "name": "stdout",
     "output_type": "stream",
     "text": [
      "Идеальные пары: \n",
      "Alex и  Emma\n",
      "Arthur и  Kate\n",
      "John и  Kira\n",
      "Peter и  Liza\n",
      "Richard и  Trisha\n"
     ]
    }
   ],
   "source": [
    "boys = ['Peter', 'Alex', 'John', 'Arthur', 'Richard']\n",
    "girls = ['Kate', 'Liza', 'Kira', 'Emma', 'Trisha']\n",
    "\n",
    "if len(boys) == len(girls):\n",
    "    boys.sort()\n",
    "    girls.sort()\n",
    "    \n",
    "    print ('Идеальные пары: ')    \n",
    "    for inx in range(len(boys)):\n",
    "        print (boys[inx], 'и ', girls[inx])\n",
    "else:\n",
    "    print('Внимание, кто-то может остаться без пары!')"
   ]
  },
  {
   "cell_type": "markdown",
   "id": "bcd96c29",
   "metadata": {},
   "source": [
    "\n",
    "Задание 4\n",
    "У нас есть список, содержащий информацию о среднедневной температуре в Фаренгейтах за произвольный период по странам (структура данных в примере). Необходимо написать код, который рассчитает среднюю температуру за период в Цельсиях(!) для каждой страны.\n",
    "Пример работы программы:\n",
    "countries_temperature = [\n",
    "    ['Thailand', [75.2, 77, 78.8, 73.4, 68, 75.2, 77]],\n",
    "    ['Germany', [57.2, 55.4, 59, 59, 53.6]],\n",
    "    ['Russia', [35.6, 37.4, 39.2, 41, 42.8, 39.2, 35.6]],\n",
    "    ['Poland', [50, 50, 53.6, 57.2, 55.4, 55.4]]\n",
    "]\n",
    "Результат:\n",
    "Средняя температура в странах:\n",
    "Thailand  -  23.9 С\n",
    "Germany  -  13.8 С\n",
    "Russia  -  3.7 С\n",
    "Poland  -  12.0 С"
   ]
  },
  {
   "cell_type": "code",
   "execution_count": 8,
   "id": "5a5ae739",
   "metadata": {},
   "outputs": [],
   "source": [
    "countries_temperature = [\n",
    "    ['Thailand', [75.2, 77, 78.8, 73.4, 68, 75.2, 77]],\n",
    "    ['Germany', [57.2, 55.4, 59, 59, 53.6]],\n",
    "    ['Russia', [35.6, 37.4, 39.2, 41, 42.8, 39.2, 35.6]],\n",
    "    ['Poland', [50, 50, 53.6, 57.2, 55.4, 55.4]]]"
   ]
  },
  {
   "cell_type": "code",
   "execution_count": 10,
   "id": "05a30cc0",
   "metadata": {},
   "outputs": [
    {
     "name": "stdout",
     "output_type": "stream",
     "text": [
      "Средняя температура в странах:\n",
      "Thailand  -  23.9  C\n",
      "Germany  -  13.8  C\n",
      "Russia  -  3.7  C\n",
      "Poland  -  12.0  C\n"
     ]
    }
   ],
   "source": [
    "print ('Средняя температура в странах:')\n",
    "for i in range(len(countries_temperature)):\n",
    "    avg_temperature_f = sum(countries_temperature [i][1])/len (countries_temperature [i][1])\n",
    "    avg_temperature_c  = (5 / 9) * (avg_temperature_f - 32)\n",
    "    print (countries_temperature[i][0],' - ',round(avg_temperature_c, 1), ' C')\n",
    "    "
   ]
  },
  {
   "cell_type": "markdown",
   "id": "c055a8ca",
   "metadata": {},
   "source": [
    "с изменением таблицы"
   ]
  },
  {
   "cell_type": "code",
   "execution_count": 11,
   "id": "7feec1f7",
   "metadata": {},
   "outputs": [
    {
     "name": "stdout",
     "output_type": "stream",
     "text": [
      "Средняя температура в странах:\n",
      "Thailand  -  23.9  C\n",
      "Germany  -  13.8  C\n",
      "Russia  -  3.7  C\n",
      "Poland  -  12.0  C\n"
     ]
    }
   ],
   "source": [
    "print ('Средняя температура в странах:')\n",
    "for i in range(len(countries_temperature)):\n",
    "    avg_temperature_f = sum(countries_temperature [i][1])/len (countries_temperature [i][1])\n",
    "    avg_temperature_c  = (5 / 9) * (avg_temperature_f - 32)\n",
    "    \n",
    "    #добавление в табличку средней температуру в конец списков\n",
    "    countries_temperature[i].append(avg_temperature_c)\n",
    "    \n",
    "    print (countries_temperature[i][0],' - ',round(countries_temperature[i][2],1), ' C')\n"
   ]
  },
  {
   "cell_type": "markdown",
   "id": "7d5275ff",
   "metadata": {},
   "source": [
    "Дан поток логов по количеству просмотренных страниц для каждого пользователя. Вам необходимо написать алгоритм, который считает среднее значение просмотров на пользователя. Т. е. надо посчитать отношение суммы всех просмотров к количеству уникальных пользователей.\n",
    "\n",
    "Примеры работы программы:\n",
    "\n",
    "stream = [\n",
    "‘2018-01-01,user1,3’,\n",
    "‘2018-01-07,user1,4’,\n",
    "‘2018-03-29,user1,1’,\n",
    "‘2018-04-04,user1,13’,\n",
    "‘2018-01-05,user2,7’,\n",
    "‘2018-06-14,user3,4’,\n",
    "‘2018-07-02,user3,10’,\n",
    "‘2018-03-21,user4,19’,\n",
    "‘2018-03-22,user4,4’,\n",
    "‘2018-04-22,user4,8’,\n",
    "‘2018-05-03,user4,9’,\n",
    "‘2018-05-11,user4,11’,\n",
    "]\n",
    "Результат:\n",
    "Среднее количество просмотров на уникального пользователя: 23.25\n",
    "\n",
    "stream = [\n",
    "‘2018-01-01,user100,150’,\n",
    "‘2018-01-07,user99,205’,\n",
    "‘2018-03-29,user1001,81’\n",
    "]\n",
    "Результат:\n",
    "Среднее количество просмотров на уникального пользователя: 145.33"
   ]
  },
  {
   "cell_type": "code",
   "execution_count": 60,
   "id": "b6e21ad8",
   "metadata": {},
   "outputs": [],
   "source": [
    "stream = ['2018-01-01,user100,150','2018-01-07,user99,205','2018-03-29,user1001,81']"
   ]
  },
  {
   "cell_type": "code",
   "execution_count": 2,
   "id": "b1c19195",
   "metadata": {},
   "outputs": [],
   "source": [
    "stream = [\n",
    "'2018-01-01,user1,3',\n",
    "'2018-01-07,user1,4',\n",
    "'2018-03-29,user1,1',\n",
    "'2018-04-04,user1,13',\n",
    "'2018-01-05,user2,7',\n",
    "'2018-06-14,user3,4',\n",
    "'2018-07-02,user3,10',\n",
    "'2018-03-21,user4,19',\n",
    "'2018-03-22,user4,4',\n",
    "'2018-04-22,user4,8',\n",
    "'2018-05-03,user4,9',\n",
    "'2018-05-11,user4,11',\n",
    "]\n"
   ]
  },
  {
   "cell_type": "code",
   "execution_count": 4,
   "id": "ef4c7538",
   "metadata": {},
   "outputs": [
    {
     "name": "stdout",
     "output_type": "stream",
     "text": [
      "Среднее количество просмотров на уникального пользователя:  23.25\n"
     ]
    }
   ],
   "source": [
    "\n",
    "# набор уникальных имен\n",
    "stream_name = []\n",
    "\n",
    "for itm in stream:\n",
    "    if itm.split(',')[1] not in stream_name:\n",
    "        stream_name.append(itm.split(',')[1])\n",
    "\n",
    "# заполнение значений\n",
    "stream_avg_time = []\n",
    "for itm2 in stream_name:\n",
    "    res = 0\n",
    "    for itm in stream:\n",
    "        if itm2 == itm.split(',')[1]:\n",
    "            res = res + int(itm.split(',')[2])\n",
    "    stream_avg_time.append([itm2, res])\n",
    "\n",
    "res = 0\n",
    "for itm in stream_avg_time:\n",
    "    res += itm[1]\n",
    "\n",
    "res2 = round(res / len(stream_avg_time),2)\n",
    "\n",
    "print('Среднее количество просмотров на уникального пользователя: ', res2)"
   ]
  },
  {
   "cell_type": "code",
   "execution_count": 3,
   "id": "e2862f8d",
   "metadata": {},
   "outputs": [
    {
     "name": "stdout",
     "output_type": "stream",
     "text": [
      "Среднее количество просмотров на уникального пользователя: 23.25\n"
     ]
    }
   ],
   "source": [
    "users_list = []\n",
    "views = 0\n",
    " \n",
    "for el in stream:\n",
    "  splitted_el = el.split(',')\n",
    "  if splitted_el[1] not in users_list:\n",
    "    users_list.append(splitted_el[1])\n",
    "  views += int(splitted_el[2])\n",
    "print(f'Среднее количество просмотров на уникального пользователя: {views/len(users_list)}')"
   ]
  },
  {
   "cell_type": "markdown",
   "id": "7fe20afc",
   "metadata": {},
   "source": [
    "Задание 6 (необязательное)\n",
    "Необходимо у пользователя запрашивать набор чисел разделенных пробелом. В результате должны выводиться числа, которые повторяются в вводе более одного раза.\n",
    "\n",
    "Примеры работы программы:\n",
    "\n",
    "Введите числа:\n",
    "4 8 0 3 4 2 0 3\n",
    "Результат:\n",
    "0 3 4\n",
    "\n",
    "Введите числа:\n",
    "1 1 2 2 3 3\n",
    "Результат:\n",
    "1 2 3\n",
    "\n",
    "Введите числа:\n",
    "1 1 1 1 1 2 2 2\n",
    "Результат:\n",
    "1 2"
   ]
  },
  {
   "cell_type": "code",
   "execution_count": 68,
   "id": "cbb81f44",
   "metadata": {},
   "outputs": [
    {
     "name": "stdout",
     "output_type": "stream",
     "text": [
      "Введите числа: 3 5 5 6 6 6 7 7 9 9 9200 300 34\n"
     ]
    }
   ],
   "source": [
    "in_data = input('Введите числа: ')"
   ]
  },
  {
   "cell_type": "code",
   "execution_count": 69,
   "id": "4d761674",
   "metadata": {},
   "outputs": [
    {
     "name": "stdout",
     "output_type": "stream",
     "text": [
      " 3 5 6 7 9 34 300 9200\n"
     ]
    }
   ],
   "source": [
    "in_date2 = list(in_data.split(' '))\n",
    "dat_temp = []\n",
    "\n",
    "for itm in in_date2:\n",
    "    if itm.isnumeric() and int(itm) \\\n",
    "            not in dat_temp:\n",
    "        dat_temp.append(int(itm))\n",
    "\n",
    "dat_clean = sorted(dat_temp)\n",
    "s = ''\n",
    "for itm in dat_clean:\n",
    "    s = s + ' ' + str(itm)\n",
    "\n",
    "print(s)"
   ]
  },
  {
   "cell_type": "code",
   "execution_count": null,
   "id": "b356fa10",
   "metadata": {},
   "outputs": [],
   "source": []
  }
 ],
 "metadata": {
  "kernelspec": {
   "display_name": "Python 3",
   "language": "python",
   "name": "python3"
  },
  "language_info": {
   "codemirror_mode": {
    "name": "ipython",
    "version": 3
   },
   "file_extension": ".py",
   "mimetype": "text/x-python",
   "name": "python",
   "nbconvert_exporter": "python",
   "pygments_lexer": "ipython3",
   "version": "3.8.8"
  }
 },
 "nbformat": 4,
 "nbformat_minor": 5
}
