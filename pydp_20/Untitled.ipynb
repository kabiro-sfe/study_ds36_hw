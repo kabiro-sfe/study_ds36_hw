{
 "cells": [
  {
   "cell_type": "markdown",
   "id": "1d3841b5",
   "metadata": {},
   "source": [
    "##  Задание 1\n",
    "Напишите функцию, которая принимает на вход строку и проверяет является ли она валидным транспортным номером (1 буква, 3 цифры, 2 буквы, 2-3 цифры). Обратите внимание, что не все буквы кириллического алфавита используются в транспортных номерах.\n",
    "Если номер валиден, то функция должна возвращать отдельно номер и регион.\n",
    "Примеры работы программы:\n",
    "car_id = 'A222BC96'\n",
    "Результат:  Номер A222BС валиден. Регион: 96\n",
    "car_id = 'АБ22ВВ193'\n",
    "Результат:  Номер не валиден"
   ]
  },
  {
   "cell_type": "code",
   "execution_count": 1,
   "id": "dbd35b06",
   "metadata": {},
   "outputs": [],
   "source": [
    "import re"
   ]
  },
  {
   "cell_type": "code",
   "execution_count": 2,
   "id": "677d44a1",
   "metadata": {},
   "outputs": [],
   "source": [
    "def check_car_id(car_id):\n",
    "    mask = r'[АВЕКМНОРСТУХ]{1}[0-9]{3}[АВЕКМНОРСТУХ]{2}[0-9]{2,3}'\n",
    "    mask_num = r'[АВЕКМНОРСТУХ]{1}[0-9]{3}[АВЕКМНОРСТУХ]{2}'\n",
    "    mask_reg = r'[0-9]{2,3}$'\n",
    "    try:\n",
    "        if re.search(mask, car_id).end() > 0:\n",
    "            car_num = re.search(mask_num, car_id).group()\n",
    "            car_reg = re.search(mask_reg, car_id).group()\n",
    "            return f'Номер {car_num} валиден. Регион: {car_reg}'\n",
    "    except:\n",
    "        return f'Номер не вылиден'"
   ]
  },
  {
   "cell_type": "code",
   "execution_count": 3,
   "id": "be1e2d89",
   "metadata": {
    "scrolled": true
   },
   "outputs": [
    {
     "data": {
      "text/plain": [
       "'Номер Н678ТО валиден. Регион: 570'"
      ]
     },
     "execution_count": 3,
     "metadata": {},
     "output_type": "execute_result"
    }
   ],
   "source": [
    "check_car_id('Н678ТО570')"
   ]
  },
  {
   "cell_type": "code",
   "execution_count": 4,
   "id": "daed3098",
   "metadata": {},
   "outputs": [
    {
     "data": {
      "text/plain": [
       "'Номер не вылиден'"
      ]
     },
     "execution_count": 4,
     "metadata": {},
     "output_type": "execute_result"
    }
   ],
   "source": [
    "check_car_id('Н67ТО570')"
   ]
  },
  {
   "cell_type": "markdown",
   "id": "e50dc52f",
   "metadata": {},
   "source": [
    "## Задание 2\n",
    "Напишите функцию, которая будет удалять все последовательные повторы слов из заданной строки при помощи регулярных выражений.\n",
    "\n",
    "Пример работы программы:\n",
    "some_string = 'Напишите функцию функцию, которая будет будет будет будет удалять все все все все последовательные повторы слов из из из из заданной строки строки при помощи регулярных выражений.'\n",
    "\n",
    "Результат:\n",
    "\n",
    "Напишите функцию, которая будет удалять все последовательные повторы слов из заданной строки при помощи регулярных выражений.\n"
   ]
  },
  {
   "cell_type": "code",
   "execution_count": 5,
   "id": "c4781fbc",
   "metadata": {},
   "outputs": [],
   "source": [
    "some_string = ('Напишите функцию функцию, которая будет \\\n",
    "будет будет будет удалять все все все все последовательные \\\n",
    "повторы слов из из из из \\\n",
    "заданной строки строки при помощи регулярных выражений.')"
   ]
  },
  {
   "cell_type": "code",
   "execution_count": 6,
   "id": "9cc71c6c",
   "metadata": {},
   "outputs": [],
   "source": [
    "def clean_str_v1(str_):\n",
    "    res = re.findall(r'(\\w+)', str_)\n",
    "    res2 = []\n",
    "    el2 = ''\n",
    "    for el in res:\n",
    "        if el2 != el:\n",
    "            res2.append(el)\n",
    "            el2 = el\n",
    "\n",
    "    print(' '.join(res2) + '.')\n",
    "    \n",
    "    "
   ]
  },
  {
   "cell_type": "code",
   "execution_count": 7,
   "id": "57e1819a",
   "metadata": {
    "scrolled": true
   },
   "outputs": [
    {
     "name": "stdout",
     "output_type": "stream",
     "text": [
      "Напишите функцию которая будет удалять все последовательные повторы слов из заданной строки при помощи регулярных выражений.\n"
     ]
    }
   ],
   "source": [
    "clean_str_v1(some_string)"
   ]
  },
  {
   "cell_type": "code",
   "execution_count": 8,
   "id": "e6358dd8",
   "metadata": {},
   "outputs": [],
   "source": [
    "def clear_srt(str_):\n",
    "    res = re.sub(r'\\b([^\\W\\d_]+)(\\s+\\1)+\\b', r'\\1', str_, flags=re.I)\n",
    "    return(res)"
   ]
  },
  {
   "cell_type": "code",
   "execution_count": 9,
   "id": "aad4df3b",
   "metadata": {},
   "outputs": [
    {
     "data": {
      "text/plain": [
       "'Напишите функцию, которая будет удалять все последовательные повторы слов из заданной строки при помощи регулярных выражений.'"
      ]
     },
     "execution_count": 9,
     "metadata": {},
     "output_type": "execute_result"
    }
   ],
   "source": [
    "clear_srt(some_string)"
   ]
  },
  {
   "cell_type": "markdown",
   "id": "36e8ac64",
   "metadata": {},
   "source": [
    "## Задание 3\n",
    "Напишите функцию, которая будет возвращать акроним по переданной в нее строке со словами.\n",
    "\n",
    "Примеры работы программы:\n",
    "\n",
    "some_words = 'Информационные технологии'\n",
    "Результат:  ИТ\n",
    "\n",
    "some_words = 'Near Field Communication'\n",
    "Результат:  NFC"
   ]
  },
  {
   "cell_type": "code",
   "execution_count": 26,
   "id": "c32706bb",
   "metadata": {},
   "outputs": [],
   "source": [
    "some_words = 'Информационные технологии'"
   ]
  },
  {
   "cell_type": "code",
   "execution_count": 11,
   "id": "15a0f3e7",
   "metadata": {},
   "outputs": [],
   "source": [
    "some_words = 'Near Field Communication'"
   ]
  },
  {
   "cell_type": "code",
   "execution_count": 45,
   "id": "9885eb24",
   "metadata": {
    "scrolled": true
   },
   "outputs": [
    {
     "data": {
      "text/plain": [
       "['Информационные']"
      ]
     },
     "execution_count": 45,
     "metadata": {},
     "output_type": "execute_result"
    }
   ],
   "source": [
    "re.findall(r'\\w+', some_words)"
   ]
  },
  {
   "cell_type": "code",
   "execution_count": 27,
   "id": "e9a0bc77",
   "metadata": {},
   "outputs": [
    {
     "name": "stdout",
     "output_type": "stream",
     "text": [
      "И т\n"
     ]
    }
   ],
   "source": [
    "\n",
    "print(re.sub(r'\\b(\\w)\\w+', r'\\1', some_words))"
   ]
  },
  {
   "cell_type": "markdown",
   "id": "89a1bce2",
   "metadata": {},
   "source": [
    "Задание 4\n",
    "Напишите функцию, которая будет принимать на вход список email-адресов и выводить их распределение по доменным зонам.\n",
    "Пример работы программы:\n",
    "emails = ['test@gmail.com', 'xyz@test.in', 'test@ya.ru', 'xyz@mail.ru', 'xyz@ya.ru', 'xyz@gmail.com']\n",
    "Результат:\n",
    "gmail.com: 2\n",
    "test.in: 1 \n",
    "ya.ru: 2 \n",
    "mail.ru: 1\n"
   ]
  },
  {
   "cell_type": "code",
   "execution_count": 17,
   "id": "4a8daa8e",
   "metadata": {},
   "outputs": [],
   "source": [
    "emails = ['test@gmail.com', 'xyz@test.in', \n",
    "          'test@ya.ru', 'xyz@mail.ru', \n",
    "          'xyz@ya.ru', 'xyz@gmail.com']"
   ]
  },
  {
   "cell_type": "code",
   "execution_count": 24,
   "id": "fb3cc66d",
   "metadata": {},
   "outputs": [],
   "source": [
    "def count_el(_str):\n",
    "    count_e = {}\n",
    "    for el in emails:\n",
    "        emai = (re.split(r'[@]', el))[1]\n",
    "        if emai not in count_e.keys():\n",
    "            count_e[emai] = 1\n",
    "        else:\n",
    "            count_e[emai] += 1\n",
    "\n",
    "    for key, el in count_e.items():\n",
    "        print(f'{key}: {el}')\n",
    "            "
   ]
  },
  {
   "cell_type": "code",
   "execution_count": 25,
   "id": "873c4803",
   "metadata": {},
   "outputs": [
    {
     "name": "stdout",
     "output_type": "stream",
     "text": [
      "gmail.com: 2\n",
      "test.in: 1\n",
      "ya.ru: 2\n",
      "mail.ru: 1\n"
     ]
    }
   ],
   "source": [
    "count_el(emails)"
   ]
  },
  {
   "cell_type": "code",
   "execution_count": null,
   "id": "c460c5bd",
   "metadata": {},
   "outputs": [],
   "source": []
  }
 ],
 "metadata": {
  "kernelspec": {
   "display_name": "Python 3",
   "language": "python",
   "name": "python3"
  },
  "language_info": {
   "codemirror_mode": {
    "name": "ipython",
    "version": 3
   },
   "file_extension": ".py",
   "mimetype": "text/x-python",
   "name": "python",
   "nbconvert_exporter": "python",
   "pygments_lexer": "ipython3",
   "version": "3.8.8"
  }
 },
 "nbformat": 4,
 "nbformat_minor": 5
}
