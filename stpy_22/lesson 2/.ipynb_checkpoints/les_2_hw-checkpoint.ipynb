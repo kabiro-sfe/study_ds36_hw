{
 "cells": [
  {
   "cell_type": "markdown",
   "id": "d45867ad",
   "metadata": {},
   "source": [
    "### Задание\n",
    "#### Необходимо провести базовый EDA выбранного набора данных.\n",
    "\n",
    "##### Требования к анализу:\n",
    "\n",
    " * построить не менее 4 визуализаций различных видов;\n",
    " * каждая визуализация должным образом оформлена и читается даже в отрыве от контекста;\n",
    " * по каждой визуализации необходимо написать вывод (какую гипотезу на ее основе можно выдвинуть?).\n"
   ]
  },
  {
   "cell_type": "code",
   "execution_count": 2,
   "id": "ca793417",
   "metadata": {},
   "outputs": [],
   "source": [
    "import pandas as pd\n",
    "import matplotlib.pyplot as plt\n"
   ]
  },
  {
   "cell_type": "code",
   "execution_count": 32,
   "id": "a44274f6",
   "metadata": {},
   "outputs": [],
   "source": [
    "df = pd.read_csv('market.csv', sep = '\\t', encoding='UTF-16')"
   ]
  },
  {
   "cell_type": "markdown",
   "id": "ae36a546",
   "metadata": {},
   "source": [
    "###### Базовый EDA "
   ]
  },
  {
   "cell_type": "code",
   "execution_count": 34,
   "id": "382797c3",
   "metadata": {},
   "outputs": [
    {
     "name": "stdout",
     "output_type": "stream",
     "text": [
      "<class 'pandas.core.frame.DataFrame'>\n",
      "RangeIndex: 17834 entries, 0 to 17833\n",
      "Data columns (total 8 columns):\n",
      " #   Column            Non-Null Count  Dtype  \n",
      "---  ------            --------------  -----  \n",
      " 0   federal_district  17834 non-null  object \n",
      " 1   cyti              17834 non-null  object \n",
      " 2   year              17834 non-null  int64  \n",
      " 3   quarter           17834 non-null  int64  \n",
      " 4   manufacture       13591 non-null  object \n",
      " 5   sku               17834 non-null  object \n",
      " 6   amount_unit       7775 non-null   float64\n",
      " 7   amount_rub        7727 non-null   float64\n",
      "dtypes: float64(2), int64(2), object(4)\n",
      "memory usage: 1.1+ MB\n"
     ]
    }
   ],
   "source": [
    "# пустые значения\n",
    "df.info()"
   ]
  },
  {
   "cell_type": "markdown",
   "id": "93118df5",
   "metadata": {},
   "source": [
    "в колонках amount_unit b amount_rub содержаться пустые значения, т.к. данные из моей предметной области я могу утверждать, что пустые значения не требуют заполнения и их необходимо удалить\n"
   ]
  },
  {
   "cell_type": "code",
   "execution_count": 49,
   "id": "087f85b2",
   "metadata": {
    "scrolled": true
   },
   "outputs": [],
   "source": [
    "df.drop(df[df.amount_unit.isna()].index, inplace=True)\n",
    "df.drop(df[df.amount_rub.isna()].index, inplace=True)\n",
    "df.drop(df[df.year == -4].index, inplace=True)"
   ]
  },
  {
   "cell_type": "code",
   "execution_count": 50,
   "id": "565a563b",
   "metadata": {},
   "outputs": [
    {
     "data": {
      "text/html": [
       "<div>\n",
       "<style scoped>\n",
       "    .dataframe tbody tr th:only-of-type {\n",
       "        vertical-align: middle;\n",
       "    }\n",
       "\n",
       "    .dataframe tbody tr th {\n",
       "        vertical-align: top;\n",
       "    }\n",
       "\n",
       "    .dataframe thead th {\n",
       "        text-align: right;\n",
       "    }\n",
       "</style>\n",
       "<table border=\"1\" class=\"dataframe\">\n",
       "  <thead>\n",
       "    <tr style=\"text-align: right;\">\n",
       "      <th></th>\n",
       "      <th>year</th>\n",
       "      <th>quarter</th>\n",
       "      <th>amount_unit</th>\n",
       "      <th>amount_rub</th>\n",
       "    </tr>\n",
       "  </thead>\n",
       "  <tbody>\n",
       "    <tr>\n",
       "      <th>count</th>\n",
       "      <td>7722.000000</td>\n",
       "      <td>7722.000000</td>\n",
       "      <td>7722.000000</td>\n",
       "      <td>7.722000e+03</td>\n",
       "    </tr>\n",
       "    <tr>\n",
       "      <th>mean</th>\n",
       "      <td>2015.998964</td>\n",
       "      <td>1.454545</td>\n",
       "      <td>1407.399553</td>\n",
       "      <td>8.086354e+05</td>\n",
       "    </tr>\n",
       "    <tr>\n",
       "      <th>std</th>\n",
       "      <td>0.032172</td>\n",
       "      <td>0.504936</td>\n",
       "      <td>15524.088275</td>\n",
       "      <td>5.712722e+06</td>\n",
       "    </tr>\n",
       "    <tr>\n",
       "      <th>min</th>\n",
       "      <td>2015.000000</td>\n",
       "      <td>1.000000</td>\n",
       "      <td>0.200000</td>\n",
       "      <td>-2.500000e-01</td>\n",
       "    </tr>\n",
       "    <tr>\n",
       "      <th>25%</th>\n",
       "      <td>2016.000000</td>\n",
       "      <td>1.000000</td>\n",
       "      <td>6.000000</td>\n",
       "      <td>1.307783e+04</td>\n",
       "    </tr>\n",
       "    <tr>\n",
       "      <th>50%</th>\n",
       "      <td>2016.000000</td>\n",
       "      <td>1.000000</td>\n",
       "      <td>24.000000</td>\n",
       "      <td>5.686010e+04</td>\n",
       "    </tr>\n",
       "    <tr>\n",
       "      <th>75%</th>\n",
       "      <td>2016.000000</td>\n",
       "      <td>2.000000</td>\n",
       "      <td>106.000000</td>\n",
       "      <td>2.949912e+05</td>\n",
       "    </tr>\n",
       "    <tr>\n",
       "      <th>max</th>\n",
       "      <td>2016.000000</td>\n",
       "      <td>4.000000</td>\n",
       "      <td>1000000.000000</td>\n",
       "      <td>2.911241e+08</td>\n",
       "    </tr>\n",
       "  </tbody>\n",
       "</table>\n",
       "</div>"
      ],
      "text/plain": [
       "              year      quarter     amount_unit    amount_rub\n",
       "count  7722.000000  7722.000000     7722.000000  7.722000e+03\n",
       "mean   2015.998964     1.454545     1407.399553  8.086354e+05\n",
       "std       0.032172     0.504936    15524.088275  5.712722e+06\n",
       "min    2015.000000     1.000000        0.200000 -2.500000e-01\n",
       "25%    2016.000000     1.000000        6.000000  1.307783e+04\n",
       "50%    2016.000000     1.000000       24.000000  5.686010e+04\n",
       "75%    2016.000000     2.000000      106.000000  2.949912e+05\n",
       "max    2016.000000     4.000000  1000000.000000  2.911241e+08"
      ]
     },
     "execution_count": 50,
     "metadata": {},
     "output_type": "execute_result"
    }
   ],
   "source": [
    "df.describe()"
   ]
  },
  {
   "cell_type": "code",
   "execution_count": 51,
   "id": "1d1fda57",
   "metadata": {
    "scrolled": true
   },
   "outputs": [
    {
     "data": {
      "text/html": [
       "<div>\n",
       "<style scoped>\n",
       "    .dataframe tbody tr th:only-of-type {\n",
       "        vertical-align: middle;\n",
       "    }\n",
       "\n",
       "    .dataframe tbody tr th {\n",
       "        vertical-align: top;\n",
       "    }\n",
       "\n",
       "    .dataframe thead th {\n",
       "        text-align: right;\n",
       "    }\n",
       "</style>\n",
       "<table border=\"1\" class=\"dataframe\">\n",
       "  <thead>\n",
       "    <tr style=\"text-align: right;\">\n",
       "      <th></th>\n",
       "      <th>federal_district</th>\n",
       "      <th>cyti</th>\n",
       "      <th>year</th>\n",
       "      <th>quarter</th>\n",
       "      <th>manufacture</th>\n",
       "      <th>sku</th>\n",
       "      <th>amount_unit</th>\n",
       "      <th>amount_rub</th>\n",
       "    </tr>\n",
       "  </thead>\n",
       "  <tbody>\n",
       "    <tr>\n",
       "      <th>0</th>\n",
       "      <td>ЮФО</td>\n",
       "      <td>Ростовская обл, Каменск-Шахтинский</td>\n",
       "      <td>2016</td>\n",
       "      <td>1</td>\n",
       "      <td>Рош Диагностикс ГмбХ</td>\n",
       "      <td>Тест-полоски \"Акку-Чек Актив\" №50</td>\n",
       "      <td>5.0</td>\n",
       "      <td>8753.35</td>\n",
       "    </tr>\n",
       "    <tr>\n",
       "      <th>2</th>\n",
       "      <td>ЮФО</td>\n",
       "      <td>Ростовская обл, Каменск-Шахтинский</td>\n",
       "      <td>2016</td>\n",
       "      <td>1</td>\n",
       "      <td>Диамедикал Лтд (Ай-Чек)</td>\n",
       "      <td>Тест-полоски АйЧек №50+ 50 ланц.</td>\n",
       "      <td>10.0</td>\n",
       "      <td>13106.70</td>\n",
       "    </tr>\n",
       "    <tr>\n",
       "      <th>3</th>\n",
       "      <td>ЮФО</td>\n",
       "      <td>Ростовская обл, Каменск-Шахтинский</td>\n",
       "      <td>2016</td>\n",
       "      <td>1</td>\n",
       "      <td>ООО \"Компания \"ЭЛТА\"</td>\n",
       "      <td>Тест-полоски \"Сателлит экспресс\" №50</td>\n",
       "      <td>50.0</td>\n",
       "      <td>44216.50</td>\n",
       "    </tr>\n",
       "    <tr>\n",
       "      <th>4</th>\n",
       "      <td>ЮФО</td>\n",
       "      <td>Ростовская обл, Каменск-Шахтинский</td>\n",
       "      <td>2016</td>\n",
       "      <td>1</td>\n",
       "      <td>NaN</td>\n",
       "      <td>продукция диагностическая</td>\n",
       "      <td>64.0</td>\n",
       "      <td>3234473.69</td>\n",
       "    </tr>\n",
       "    <tr>\n",
       "      <th>8</th>\n",
       "      <td>УФО</td>\n",
       "      <td>Тюмень г.</td>\n",
       "      <td>2016</td>\n",
       "      <td>1</td>\n",
       "      <td>NaN</td>\n",
       "      <td>продукция не диабет</td>\n",
       "      <td>30.0</td>\n",
       "      <td>1770950.00</td>\n",
       "    </tr>\n",
       "  </tbody>\n",
       "</table>\n",
       "</div>"
      ],
      "text/plain": [
       "  federal_district                                cyti  year  quarter  \\\n",
       "0              ЮФО  Ростовская обл, Каменск-Шахтинский  2016        1   \n",
       "2              ЮФО  Ростовская обл, Каменск-Шахтинский  2016        1   \n",
       "3              ЮФО  Ростовская обл, Каменск-Шахтинский  2016        1   \n",
       "4              ЮФО  Ростовская обл, Каменск-Шахтинский  2016        1   \n",
       "8              УФО                           Тюмень г.  2016        1   \n",
       "\n",
       "               manufacture                                   sku  amount_unit  \\\n",
       "0     Рош Диагностикс ГмбХ     Тест-полоски \"Акку-Чек Актив\" №50          5.0   \n",
       "2  Диамедикал Лтд (Ай-Чек)      Тест-полоски АйЧек №50+ 50 ланц.         10.0   \n",
       "3     ООО \"Компания \"ЭЛТА\"  Тест-полоски \"Сателлит экспресс\" №50         50.0   \n",
       "4                      NaN             продукция диагностическая         64.0   \n",
       "8                      NaN                   продукция не диабет         30.0   \n",
       "\n",
       "   amount_rub  \n",
       "0     8753.35  \n",
       "2    13106.70  \n",
       "3    44216.50  \n",
       "4  3234473.69  \n",
       "8  1770950.00  "
      ]
     },
     "execution_count": 51,
     "metadata": {},
     "output_type": "execute_result"
    }
   ],
   "source": [
    "df.head()"
   ]
  },
  {
   "cell_type": "code",
   "execution_count": 55,
   "id": "22c42ba3",
   "metadata": {},
   "outputs": [],
   "source": [
    "df['year_quarter'] = df['year'] * 100 + df['quarter']"
   ]
  },
  {
   "cell_type": "code",
   "execution_count": 61,
   "id": "aad78086",
   "metadata": {},
   "outputs": [
    {
     "data": {
      "text/html": [
       "<div>\n",
       "<style scoped>\n",
       "    .dataframe tbody tr th:only-of-type {\n",
       "        vertical-align: middle;\n",
       "    }\n",
       "\n",
       "    .dataframe tbody tr th {\n",
       "        vertical-align: top;\n",
       "    }\n",
       "\n",
       "    .dataframe thead th {\n",
       "        text-align: right;\n",
       "    }\n",
       "</style>\n",
       "<table border=\"1\" class=\"dataframe\">\n",
       "  <thead>\n",
       "    <tr style=\"text-align: right;\">\n",
       "      <th></th>\n",
       "      <th>amount_rub</th>\n",
       "    </tr>\n",
       "    <tr>\n",
       "      <th>year_quarter</th>\n",
       "      <th></th>\n",
       "    </tr>\n",
       "  </thead>\n",
       "  <tbody>\n",
       "    <tr>\n",
       "      <th>201504</th>\n",
       "      <td>9.533475e+05</td>\n",
       "    </tr>\n",
       "    <tr>\n",
       "      <th>201601</th>\n",
       "      <td>3.733657e+09</td>\n",
       "    </tr>\n",
       "    <tr>\n",
       "      <th>201602</th>\n",
       "      <td>2.509569e+09</td>\n",
       "    </tr>\n",
       "    <tr>\n",
       "      <th>201604</th>\n",
       "      <td>1.039800e+05</td>\n",
       "    </tr>\n",
       "  </tbody>\n",
       "</table>\n",
       "</div>"
      ],
      "text/plain": [
       "                amount_rub\n",
       "year_quarter              \n",
       "201504        9.533475e+05\n",
       "201601        3.733657e+09\n",
       "201602        2.509569e+09\n",
       "201604        1.039800e+05"
      ]
     },
     "execution_count": 61,
     "metadata": {},
     "output_type": "execute_result"
    }
   ],
   "source": [
    "dynamics_by_region = df[[x for x in df.columns if 'amount_rub' in x] + ['year_quarter']] \\\n",
    "    .groupby('year_quarter').sum()\n",
    "dynamics_by_region"
   ]
  },
  {
   "cell_type": "code",
   "execution_count": 62,
   "id": "b6ca87c7",
   "metadata": {},
   "outputs": [
    {
     "data": {
      "text/plain": [
       "Text(0, 0.5, 'Продажи, млн.')"
      ]
     },
     "execution_count": 62,
     "metadata": {},
     "output_type": "execute_result"
    },
    {
     "data": {
      "image/png": "[encoded data removed]",
      "text/plain": [
       "<Figure size 432x288 with 1 Axes>"
      ]
     },
     "metadata": {
      "needs_background": "light"
     },
     "output_type": "display_data"
    }
   ],
   "source": [
    "plt.plot(dynamics_by_region.index, dynamics_by_region.amount_rub)\n",
    "plt.title('Динамика продаж видеоигр')\n",
    "plt.xlabel('Год')\n",
    "plt.ylabel('Продажи, млн.')"
   ]
  },
  {
   "cell_type": "code",
   "execution_count": null,
   "id": "1b204136",
   "metadata": {},
   "outputs": [],
   "source": []
  }
 ],
 "metadata": {
  "kernelspec": {
   "display_name": "Python 3",
   "language": "python",
   "name": "python3"
  },
  "language_info": {
   "codemirror_mode": {
    "name": "ipython",
    "version": 3
   },
   "file_extension": ".py",
   "mimetype": "text/x-python",
   "name": "python",
   "nbconvert_exporter": "python",
   "pygments_lexer": "ipython3",
   "version": "3.8.8"
  }
 },
 "nbformat": 4,
 "nbformat_minor": 5
}
