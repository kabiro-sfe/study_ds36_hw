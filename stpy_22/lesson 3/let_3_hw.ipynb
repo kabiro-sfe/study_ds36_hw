{
 "cells": [
  {
   "cell_type": "markdown",
   "id": "49e08ab8",
   "metadata": {},
   "source": [
    "### Задание\n",
    "\n",
    "Смоделировать игру против лотерейного автомата типа “777”. Игрок платит 1 руб., после чего выпадает случайное целое число, равномерно распределенное от 0 до 999. При некоторых значениях числа игрок получает выигрыш.\n",
    "\n",
    " - 777: 200 руб.\n",
    " - 999: 100 руб.\n",
    " - 555: 50 руб.\n",
    " - 333: 15 руб.\n",
    " - 111: 10 руб.\n",
    " - *77: 5 руб.\n",
    " - **7: 3 руб.\n",
    " - *00: 2 руб.\n",
    " - **0: 1 руб.\n",
    "\n",
    "#### Вопросы:\n",
    "\n",
    " * Выгодна ли игра игроку?\n",
    " * Сколько в среднем приобретает или теряет игрок за одну игру?\n",
    "\n",
    "##### *Дополнительное задание повышенной сложности. *\n",
    "\n",
    " * Теоретически рассчитать средний выигрыш (проигрыш) и сравнить с результатами моделирования\n",
    " \n",
    " \n",
    " – любая цифра"
   ]
  },
  {
   "cell_type": "markdown",
   "id": "2c0414c4",
   "metadata": {},
   "source": [
    "план действий\n",
    "для каждого нужно посчитать вероятность выпадения и уиножить на деньга - (1/999 * 200) + (1-1/999)*1 = средняя вероятность для каждого случая"
   ]
  },
  {
   "cell_type": "markdown",
   "id": "f5ea1ed4",
   "metadata": {},
   "source": [
    "##### Теоретическая вероятность"
   ]
  },
  {
   "cell_type": "code",
   "execution_count": 68,
   "id": "f7af516d",
   "metadata": {
    "scrolled": true
   },
   "outputs": [
    {
     "name": "stdout",
     "output_type": "stream",
     "text": [
      "Теоретическая вероятность равна :  0.2022022022022022\n"
     ]
    }
   ],
   "source": [
    "p = (1 / 999)\n",
    "# для трехзначных цифр (777, 999, 555, 111)\n",
    "p1 = p * 4 \n",
    "\n",
    "# для двухзначных  цифр : (999 // 100) * 2) таких варианта 2, с вычетом p верояностей\n",
    "p2 = (p * ((999 // 100) * 2)) - p\n",
    "# для трехзначных  цифр : (999 // 10) * 2) таких варианта 2, с вычетом p2 верояностей\n",
    "p3 = (p * ((999 // 10) * 2)) - p2\n",
    "\n",
    "print('Теоретическая вероятность равна : ', p1 + p2 + p3)\n",
    "\n"
   ]
  },
  {
   "cell_type": "markdown",
   "id": "e0815d47",
   "metadata": {},
   "source": [
    "##### Модель игры"
   ]
  },
  {
   "cell_type": "code",
   "execution_count": 112,
   "id": "d68c469b",
   "metadata": {},
   "outputs": [
    {
     "name": "stdout",
     "output_type": "stream",
     "text": [
      "вероятность:  0.2024066\n",
      "остаток денег 8726502 прирост: -0.12734979999999996\n"
     ]
    }
   ],
   "source": [
    "import numpy as np\n",
    "\n",
    "trials = 10000000\n",
    "successes = 0\n",
    "maney = trials \n",
    "\n",
    "for i in range(trials):\n",
    "    number = np.random.randint(1, 1000)\n",
    "    maney -= 1\n",
    "#     проход по правилам\n",
    "    if number == 777:\n",
    "        maney += 200\n",
    "        successes += 1\n",
    "    elif number == 999:\n",
    "        maney += 100\n",
    "        successes += 1\n",
    "    elif number == 555:\n",
    "        maney += 50\n",
    "        successes += 1\n",
    "    elif number == 111:\n",
    "        maney += 10\n",
    "        successes += 1\n",
    "    elif number % 100 == 77:\n",
    "        maney += 5\n",
    "        successes += 1\n",
    "    elif number % 10 == 7:\n",
    "        maney += 3\n",
    "        successes += 1\n",
    "    elif (number % 100) % 10 == 0:\n",
    "        maney += 2\n",
    "        successes += 1\n",
    "    elif number % 10 == 0:\n",
    "        maney += 1\n",
    "        successes += 1\n",
    "\n",
    "        \n",
    "        \n",
    "print('вероятность: ',  successes / trials)\n",
    "print('остаток денег', maney, 'прирост:', ( maney/trials - 1))\n",
    "        "
   ]
  },
  {
   "cell_type": "markdown",
   "id": "6bb2b4b5",
   "metadata": {},
   "source": [
    "Эксперимент показал, что игра игроку не выгодна. Игрок всегда потеряет >12% денег"
   ]
  },
  {
   "cell_type": "code",
   "execution_count": null,
   "id": "c953cffe",
   "metadata": {},
   "outputs": [],
   "source": []
  }
 ],
 "metadata": {
  "kernelspec": {
   "display_name": "Python 3",
   "language": "python",
   "name": "python3"
  },
  "language_info": {
   "codemirror_mode": {
    "name": "ipython",
    "version": 3
   },
   "file_extension": ".py",
   "mimetype": "text/x-python",
   "name": "python",
   "nbconvert_exporter": "python",
   "pygments_lexer": "ipython3",
   "version": "3.8.8"
  }
 },
 "nbformat": 4,
 "nbformat_minor": 5
}
