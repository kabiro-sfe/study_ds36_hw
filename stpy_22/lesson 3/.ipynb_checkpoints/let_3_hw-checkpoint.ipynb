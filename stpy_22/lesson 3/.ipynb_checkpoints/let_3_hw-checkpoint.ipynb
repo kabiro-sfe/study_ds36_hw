{
 "cells": [
  {
   "cell_type": "markdown",
   "id": "49e08ab8",
   "metadata": {},
   "source": [
    "### Задание\n",
    "\n",
    "Смоделировать игру против лотерейного автомата типа “777”. Игрок платит 1 руб., после чего выпадает случайное целое число, равномерно распределенное от 0 до 999. При некоторых значениях числа игрок получает выигрыш.\n",
    "\n",
    " - 777: 200 руб.\n",
    " - 999: 100 руб.\n",
    " - 555: 50 руб.\n",
    " - 333: 15 руб.\n",
    " - 111: 10 руб.\n",
    " - *77: 5 руб.\n",
    " - **7: 3 руб.\n",
    " - *00: 2 руб.\n",
    " - **0: 1 руб.\n",
    "\n",
    "#### Вопросы:\n",
    "\n",
    " * Выгодна ли игра игроку?\n",
    " * Сколько в среднем приобретает или теряет игрок за одну игру?\n",
    "\n",
    "##### *Дополнительное задание повышенной сложности. *\n",
    "\n",
    " * Теоретически рассчитать средний выигрыш (проигрыш) и сравнить с результатами моделирования\n",
    " \n",
    " \n",
    " – любая цифра"
   ]
  },
  {
   "cell_type": "markdown",
   "id": "2c0414c4",
   "metadata": {},
   "source": [
    "план действий\n",
    "для каждого нужно посчитать вероятность выпадения и уиножить на деньга - (1/999 * 200) + (1-1/999)*1 = средняя вероятность для каждого случая"
   ]
  },
  {
   "cell_type": "code",
   "execution_count": null,
   "id": "ab328ada",
   "metadata": {},
   "outputs": [],
   "source": [
    "# теоретическая вероятность для каждого числа равна 0.001001001001001001\n",
    "# для числа из 3х 0.001001001001001001 \n",
    "# для числа из 2х 0.008008008008008008\n"
   ]
  },
  {
   "cell_type": "code",
   "execution_count": 75,
   "id": "d68c469b",
   "metadata": {},
   "outputs": [
    {
     "name": "stdout",
     "output_type": "stream",
     "text": [
      "0.202075 877612\n"
     ]
    }
   ],
   "source": [
    "trials = 1000000  # Количество попыток\n",
    "droch = 0\n",
    "bablo = trials # Количество успехов\n",
    "\n",
    "for i in range(trials):\n",
    "    gavno = np.random.randint(1, 1000)\n",
    "    bablo -= 1\n",
    "#     проход по правилам\n",
    "    if gavno == 777:\n",
    "        bablo += 200\n",
    "        droch += 1\n",
    "    elif gavno == 999:\n",
    "        bablo += 100\n",
    "        droch += 1\n",
    "    elif gavno == 555:\n",
    "        bablo += 50\n",
    "        droch += 1\n",
    "    elif gavno == 111:\n",
    "        bablo += 10\n",
    "        droch += 1\n",
    "    elif gavno % 100 == 77:\n",
    "        bablo += 5\n",
    "        droch += 1\n",
    "    elif gavno % 10 == 7:\n",
    "        bablo += 3\n",
    "        droch += 1\n",
    "    elif (gavno % 100) % 10 == 0:\n",
    "        bablo += 2\n",
    "        droch += 1\n",
    "    elif gavno % 10 == 0:\n",
    "        bablo += 1\n",
    "        droch += 1\n",
    "\n",
    "        \n",
    "        \n",
    "print(droch / trials, bablo)\n",
    "        "
   ]
  },
  {
   "cell_type": "markdown",
   "id": "6bb2b4b5",
   "metadata": {},
   "source": [
    "Эксперимент показал, что игра игроку не выгодна. Игрок при люом количестве попыток потеряет 20% денег"
   ]
  },
  {
   "cell_type": "code",
   "execution_count": 76,
   "id": "f7af516d",
   "metadata": {},
   "outputs": [],
   "source": [
    "# вероятность выпадениня одного числа\n",
    "p = 1 / 999\n"
   ]
  },
  {
   "cell_type": "code",
   "execution_count": 77,
   "id": "693548e6",
   "metadata": {},
   "outputs": [
    {
     "data": {
      "text/plain": [
       "0.001001001001001001"
      ]
     },
     "execution_count": 77,
     "metadata": {},
     "output_type": "execute_result"
    }
   ],
   "source": []
  },
  {
   "cell_type": "code",
   "execution_count": null,
   "id": "0ff5db37",
   "metadata": {},
   "outputs": [],
   "source": []
  }
 ],
 "metadata": {
  "kernelspec": {
   "display_name": "Python 3",
   "language": "python",
   "name": "python3"
  },
  "language_info": {
   "codemirror_mode": {
    "name": "ipython",
    "version": 3
   },
   "file_extension": ".py",
   "mimetype": "text/x-python",
   "name": "python",
   "nbconvert_exporter": "python",
   "pygments_lexer": "ipython3",
   "version": "3.8.8"
  }
 },
 "nbformat": 4,
 "nbformat_minor": 5
}
