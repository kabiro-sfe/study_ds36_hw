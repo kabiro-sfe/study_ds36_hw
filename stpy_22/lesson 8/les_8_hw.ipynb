{
 "cells": [
  {
   "cell_type": "markdown",
   "id": "bc573cc9",
   "metadata": {},
   "source": [
    "### Задание 1\n",
    "\n",
    "Ответьте на следующие вопросы:\n",
    " - Как критики относятся к спортивным играм?\n",
    " - Критикам нравятся больше игры на PC или на PS4?\n",
    " - Критикам больше нравятся стрелялки или стратегии?\n",
    "\n",
    "Для каждого вопроса:\n",
    " * сформулируйте нулевую и альтернативную гипотезы;\n",
    " * выберите пороговый уровень статистической значимости;\n",
    " * опишите полученные результаты статистического теста."
   ]
  },
  {
   "cell_type": "code",
   "execution_count": 24,
   "id": "3af19b7d",
   "metadata": {},
   "outputs": [],
   "source": [
    "import pandas as pd\n",
    "import matplotlib.pyplot as plt  "
   ]
  },
  {
   "cell_type": "code",
   "execution_count": 131,
   "id": "72257d82",
   "metadata": {},
   "outputs": [],
   "source": [
    "df = pd.read_csv('vgsales.csv')"
   ]
  },
  {
   "cell_type": "markdown",
   "id": "0c9ca94f",
   "metadata": {},
   "source": [
    "##### Как критики относятся к спортивным играм?\n",
    "\n",
    "    Критики относятся к спортивным играм положительно или отрицательно.\n",
    "    \n",
    " * H0 средняя оценка критиков <= 70\n",
    " * H1 средняя оценка критиков > 70\n",
    "\n",
    "alfa = 0.05\n",
    "\n"
   ]
  },
  {
   "cell_type": "code",
   "execution_count": 132,
   "id": "80547f1c",
   "metadata": {},
   "outputs": [
    {
     "data": {
      "image/png": "[encoded data removed]",
      "text/plain": [
       "<Figure size 432x288 with 1 Axes>"
      ]
     },
     "metadata": {
      "needs_background": "light"
     },
     "output_type": "display_data"
    }
   ],
   "source": [
    "plt.hist(df['Critic_Score'])\n",
    "\n",
    "plt.title('Распределение оценок критиков')\n",
    "plt.xlabel('Оценка')\n",
    "plt.ylabel('Количество')\n",
    "\n",
    "plt.show()"
   ]
  },
  {
   "cell_type": "code",
   "execution_count": 133,
   "id": "d7081a47",
   "metadata": {},
   "outputs": [
    {
     "name": "stdout",
     "output_type": "stream",
     "text": [
      "mean Critic Score:  68.97\n",
      "t-score:  1.62 p-value: 0.0526\n",
      "Не отвергаем нулевую нулевую гипотезу, критики оносятся к спортивным играм ниже среднего\n"
     ]
    }
   ],
   "source": [
    "from scipy import stats as st\n",
    "alpha = 0.05\n",
    "t_score, p_value = st.ttest_1samp(df.dropna()['Critic_Score'], 70, alternative='greater')\n",
    "\n",
    "print('mean Critic Score: ', round(df['Critic_Score'].mean(), 2))\n",
    "print('t-score: ',round(t_score, 2) , 'p-value:', round(p_value, 4))\n",
    "\n",
    "if p_value < alpha: \n",
    "    print('Отвергаем нулевую гипотезу, среднее больше 70 (критики относятся к спортивным играм положительно)')\n",
    "else:\n",
    "    print('Не отвергаем нулевую нулевую гипотезу, критики оносятся к спортивным играм ниже среднего')"
   ]
  },
  {
   "cell_type": "markdown",
   "id": "c22e5cc6",
   "metadata": {},
   "source": [
    "#### Критикам нравятся больше игры на PC или на PS4?\n",
    "\n",
    "    Средняя отценка критиков выше для игр на PC в сравнеии с играми на PS4\n",
    "    \n",
    " * H0 Средняя отценка для PC <= средней оценке для PS4\n",
    " * H1 Средняя отценка для PC > средней оценке для PS4"
   ]
  },
  {
   "cell_type": "code",
   "execution_count": 93,
   "id": "38b512d4",
   "metadata": {},
   "outputs": [
    {
     "data": {
      "image/png": "[encoded data removed]",
      "text/plain": [
       "<Figure size 432x288 with 1 Axes>"
      ]
     },
     "metadata": {
      "needs_background": "light"
     },
     "output_type": "display_data"
    }
   ],
   "source": [
    "plt.hist(df.loc[df['Platform'] == 'PC'].dropna()['Critic_Score'], label='PC')\n",
    "plt.hist(df.loc[df['Platform'] == 'PS4'].dropna()['Critic_Score'], label='PS4')\n",
    "plt.axvline(df.loc[df['Platform'] == 'PC'].dropna()['Critic_Score'].mean(), color='b', label = 'PC_mean')\n",
    "plt.axvline(df.loc[df['Platform'] == 'PS4'].dropna()['Critic_Score'].mean(), color='r', label = 'PS4_mean')\n",
    "\n",
    "plt.title('Распределение оценок критиков')\n",
    "plt.xlabel('Оценка')\n",
    "plt.ylabel('Количество')\n",
    "plt.legend()\n",
    "\n",
    "plt.show()"
   ]
  },
  {
   "cell_type": "code",
   "execution_count": 55,
   "id": "d6485cba",
   "metadata": {},
   "outputs": [
    {
     "name": "stdout",
     "output_type": "stream",
     "text": [
      "PC mean 76.26\n",
      "PS4 mean 72.67\n"
     ]
    }
   ],
   "source": [
    "print('PC mean', round(df.loc[df['Platform'] == 'PC'].dropna()['Critic_Score'].mean(), 2))\n",
    "print('PS4 mean', round(df.loc[df['Platform'] == 'PS4'].dropna()['Critic_Score'].mean(), 2))"
   ]
  },
  {
   "cell_type": "code",
   "execution_count": 113,
   "id": "cd60abc4",
   "metadata": {},
   "outputs": [
    {
     "name": "stdout",
     "output_type": "stream",
     "text": [
      "t-score:  3.99 p-value: 0.0\n",
      "Отвергаем нулевую гипотезу, средняя оценка критиков выше для игр на PC\n"
     ]
    }
   ],
   "source": [
    "alpha = 0.05\n",
    "t_score, p_value = st.ttest_ind(df.loc[df['Platform'] == 'PC'].dropna()['Critic_Score'],\n",
    "                      df.loc[df['Platform'] == 'PS4'].dropna()['Critic_Score'], equal_var=False)\n",
    "\n",
    "print('t-score: ',round(t_score, 2) , 'p-value:', round(p_value, 3))\n",
    "\n",
    "if (p_value < alpha):\n",
    "    print('Отвергаем нулевую гипотезу, средняя оценка критиков выше для игр на PC')\n",
    "else:\n",
    "    print('Не отвергаем нулевую гипотезу, средняя оценка критиков выше для игр на PS4')\n",
    "    \n"
   ]
  },
  {
   "cell_type": "code",
   "execution_count": 112,
   "id": "381902bb",
   "metadata": {},
   "outputs": [
    {
     "name": "stdout",
     "output_type": "stream",
     "text": [
      "7.984874894502312e-05\n"
     ]
    }
   ],
   "source": [
    "print(result.pvalue) "
   ]
  },
  {
   "cell_type": "markdown",
   "id": "2a396855",
   "metadata": {},
   "source": [
    "#### Критикам больше нравятся стрелялки или стратегии?\n",
    "\n",
    "    Средняя оценка критиков выше для Shooter или для Strategy\n",
    "    \n",
    " * H0 Средняя оценка для Shooter >= средней оценке для Strategy\n",
    " * H1 Средняя оценка для Shooter < средней оценке для Strategy"
   ]
  },
  {
   "cell_type": "code",
   "execution_count": 115,
   "id": "55245638",
   "metadata": {
    "scrolled": true
   },
   "outputs": [
    {
     "data": {
      "image/png": "[encoded data removed]",
      "text/plain": [
       "<Figure size 432x288 with 1 Axes>"
      ]
     },
     "metadata": {
      "needs_background": "light"
     },
     "output_type": "display_data"
    }
   ],
   "source": [
    "plt.hist(df.loc[df['Genre'] == 'Shooter'].dropna()['Critic_Score'], label='Shooter')\n",
    "plt.hist(df.loc[df['Genre'] == 'Strategy'].dropna()['Critic_Score'], label='Strategy')\n",
    "plt.axvline(df.loc[df['Genre'] == 'Shooter'].dropna()['Critic_Score'].mean(), color='b', label = 'Shooter_mean')\n",
    "plt.axvline(df.loc[df['Genre'] == 'Strategy'].dropna()['Critic_Score'].mean(), color='r', label = 'Strategy_mean')\n",
    "\n",
    "plt.title('Распределение оценок критиков')\n",
    "plt.xlabel('Оценка')\n",
    "plt.ylabel('Количество')\n",
    "plt.legend()\n",
    "\n",
    "plt.show()"
   ]
  },
  {
   "cell_type": "code",
   "execution_count": 116,
   "id": "da3e350a",
   "metadata": {},
   "outputs": [
    {
     "name": "stdout",
     "output_type": "stream",
     "text": [
      "Shooter mean:  70.98\n",
      "Strategy mean:  73.12\n"
     ]
    }
   ],
   "source": [
    "print('Shooter mean: ', round(df.loc[df['Genre'] == 'Shooter'].dropna()['Critic_Score'].mean(), 2))\n",
    "print('Strategy mean: ', round(df.loc[df['Genre'] == 'Strategy'].dropna()['Critic_Score'].mean(), 2))"
   ]
  },
  {
   "cell_type": "code",
   "execution_count": 118,
   "id": "8c915e05",
   "metadata": {},
   "outputs": [
    {
     "name": "stdout",
     "output_type": "stream",
     "text": [
      "t-score:  2.5 p-value: 0.013\n",
      "Отвергаем нулевую гипотезу, средняя оценка критиков выше для игр Strategy\n"
     ]
    }
   ],
   "source": [
    "alpha = 0.05\n",
    "t_score, p_value = st.ttest_ind(df.loc[df['Genre'] == 'Strategy'].dropna()['Critic_Score'],\n",
    "                      df.loc[df['Genre'] == 'Shooter'].dropna()['Critic_Score'], equal_var=False)\n",
    "\n",
    "print('t-score: ',round(t_score, 2) , 'p-value:', round(p_value, 3))\n",
    "\n",
    "if (p_value < alpha):\n",
    "    print('Отвергаем нулевую гипотезу, средняя оценка критиков выше для игр Strategy')\n",
    "else:\n",
    "    print('Не отвергаем нулевую гипотезу, средняя оценка критиков выше для игр Shooter')"
   ]
  },
  {
   "cell_type": "markdown",
   "id": "a0f5edb5",
   "metadata": {},
   "source": [
    "### Задание 2\n",
    "\n",
    "Реализуйте базовую модель логистической регрессии для классификации текстовых сообщений (используемые данные здесь) по признаку спама. Для этого:\n",
    " * Привидите весь текст к нижнему регистру;\n",
    " * Удалите мусорные символы;\n",
    " * Удалите стоп-слова;\n",
    " * Привидите все слова к нормальной форме;\n",
    " * Преобразуйте все сообщения в вектора TF-IDF. Вам поможет следующий код:"
   ]
  },
  {
   "cell_type": "code",
   "execution_count": 69,
   "id": "026dbf3b",
   "metadata": {},
   "outputs": [],
   "source": [
    "# импорт библиотек\n",
    "import glob\n",
    "import pandas as pd\n",
    "import re\n",
    "from nltk.corpus import stopwords\n",
    "from nltk.stem import WordNetLemmatizer\n",
    "wordnet_lemmatizer = WordNetLemmatizer()\n",
    "\n",
    "import spacy\n"
   ]
  },
  {
   "cell_type": "code",
   "execution_count": 70,
   "id": "93903e01",
   "metadata": {},
   "outputs": [],
   "source": [
    "spacy.prefer_gpu()\n",
    "nlp = spacy.load(\"en_core_web_sm\")"
   ]
  },
  {
   "cell_type": "code",
   "execution_count": 71,
   "id": "fb056b77",
   "metadata": {},
   "outputs": [],
   "source": [
    "stopwords_set = set(stopwords.words('english'))"
   ]
  },
  {
   "cell_type": "code",
   "execution_count": 72,
   "id": "7ed2f372",
   "metadata": {},
   "outputs": [],
   "source": [
    "def norm_msg (message):\n",
    "    message = message.lower()\n",
    "    message = re.sub('[\\W_]+',' ', message)\n",
    "    message = nlp(message)\n",
    "    message = [token.lemma_ for token in message]\n",
    "    message = [word for word in message if word not in stopwords_set]\n",
    "    message = [wordnet_lemmatizer.lemmatize(word) for word in message]\n",
    "    return ' '.join(message)"
   ]
  },
  {
   "cell_type": "code",
   "execution_count": 73,
   "id": "b3e5b1f8",
   "metadata": {},
   "outputs": [],
   "source": [
    "df = pd.read_csv('spam.csv')"
   ]
  },
  {
   "cell_type": "markdown",
   "id": "a58a1e4d",
   "metadata": {},
   "source": [
    " *  Привидите весь текст к нижнему регистру;\n",
    " * Удалите мусорные символы;"
   ]
  },
  {
   "cell_type": "code",
   "execution_count": 74,
   "id": "be85cd2a",
   "metadata": {},
   "outputs": [],
   "source": [
    "df['norm_msg']  = df['Message'].apply(norm_msg)\n"
   ]
  },
  {
   "cell_type": "code",
   "execution_count": 75,
   "id": "1cd0dc9a",
   "metadata": {},
   "outputs": [],
   "source": [
    "df.loc[df['Category']=='ham', 'cat'] = 1\n",
    "df.loc[df['Category']=='spam', 'cat'] = 2"
   ]
  },
  {
   "cell_type": "code",
   "execution_count": 76,
   "id": "0b5007af",
   "metadata": {},
   "outputs": [],
   "source": [
    "from sklearn.feature_extraction.text import TfidfVectorizer\n",
    "\n",
    "tfidf = TfidfVectorizer()\n",
    "tfidf_matrix = tfidf.fit_transform(df['norm_msg'])\n",
    "names = tfidf.get_feature_names()\n",
    "tfidf_matrix = pd.DataFrame(tfidf_matrix.toarray(), columns=names)"
   ]
  },
  {
   "cell_type": "code",
   "execution_count": 77,
   "id": "2248ef4d",
   "metadata": {},
   "outputs": [],
   "source": [
    "from sklearn.model_selection import train_test_split"
   ]
  },
  {
   "cell_type": "code",
   "execution_count": 78,
   "id": "f94901c6",
   "metadata": {},
   "outputs": [],
   "source": [
    "X = tfidf_matrix\n",
    "y = df['cat']\n",
    "\n",
    "# X_train, X_test, y_train, y_test = train_test_split(X, y, test_size=0.05, random_state=42)\n",
    "X_train, X_test, y_train, y_test = train_test_split(X, y, test_size=0.30, random_state=42)\n",
    "\n",
    "y_pred = model.predict(X_test)"
   ]
  },
  {
   "cell_type": "code",
   "execution_count": 79,
   "id": "cd2ec619",
   "metadata": {},
   "outputs": [],
   "source": [
    "from sklearn.linear_model import LogisticRegression"
   ]
  },
  {
   "cell_type": "code",
   "execution_count": 80,
   "id": "8f5ba9f4",
   "metadata": {},
   "outputs": [
    {
     "data": {
      "text/plain": [
       "LogisticRegression(random_state=42)"
      ]
     },
     "execution_count": 80,
     "metadata": {},
     "output_type": "execute_result"
    }
   ],
   "source": [
    "logisticRegr = LogisticRegression(random_state=42)\n",
    "logisticRegr.fit(X_train, y_train)"
   ]
  },
  {
   "cell_type": "code",
   "execution_count": 81,
   "id": "fb6f1a19",
   "metadata": {},
   "outputs": [],
   "source": [
    "predictions = logisticRegr.predict(X_test)"
   ]
  },
  {
   "cell_type": "code",
   "execution_count": 82,
   "id": "1b225378",
   "metadata": {},
   "outputs": [
    {
     "data": {
      "text/plain": [
       "array([1., 1., 1., ..., 1., 2., 1.])"
      ]
     },
     "execution_count": 82,
     "metadata": {},
     "output_type": "execute_result"
    }
   ],
   "source": [
    "predictions"
   ]
  },
  {
   "cell_type": "code",
   "execution_count": 83,
   "id": "f4365846",
   "metadata": {},
   "outputs": [],
   "source": [
    "import matplotlib.pyplot as plt\n",
    "import seaborn as sns\n",
    "from sklearn import metrics"
   ]
  },
  {
   "cell_type": "code",
   "execution_count": 84,
   "id": "ddc915b2",
   "metadata": {},
   "outputs": [
    {
     "name": "stdout",
     "output_type": "stream",
     "text": [
      "[[1444    4]\n",
      " [  64  160]]\n"
     ]
    }
   ],
   "source": [
    "cm = metrics.confusion_matrix(y_test, predictions)\n",
    "print(cm)"
   ]
  },
  {
   "cell_type": "code",
   "execution_count": null,
   "id": "aade3796",
   "metadata": {},
   "outputs": [],
   "source": []
  }
 ],
 "metadata": {
  "kernelspec": {
   "display_name": "Python 3",
   "language": "python",
   "name": "python3"
  },
  "language_info": {
   "codemirror_mode": {
    "name": "ipython",
    "version": 3
   },
   "file_extension": ".py",
   "mimetype": "text/x-python",
   "name": "python",
   "nbconvert_exporter": "python",
   "pygments_lexer": "ipython3",
   "version": "3.8.8"
  }
 },
 "nbformat": 4,
 "nbformat_minor": 5
}
