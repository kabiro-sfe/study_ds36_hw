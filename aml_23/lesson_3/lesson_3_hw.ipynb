{
 "cells": [
  {
   "cell_type": "code",
   "execution_count": 99,
   "id": "70e71c80",
   "metadata": {},
   "outputs": [],
   "source": [
    "import pandas as pd\n",
    "import seaborn as sns\n",
    "import matplotlib.pyplot  as plt\n",
    "import numpy as np"
   ]
  },
  {
   "cell_type": "code",
   "execution_count": 2,
   "id": "3fcd8dc7",
   "metadata": {},
   "outputs": [],
   "source": [
    "data = pd.read_csv('athletes.csv')"
   ]
  },
  {
   "cell_type": "code",
   "execution_count": 3,
   "id": "da71ec44",
   "metadata": {},
   "outputs": [
    {
     "name": "stdout",
     "output_type": "stream",
     "text": [
      "<class 'pandas.core.frame.DataFrame'>\n",
      "RangeIndex: 11538 entries, 0 to 11537\n",
      "Data columns (total 11 columns):\n",
      " #   Column       Non-Null Count  Dtype  \n",
      "---  ------       --------------  -----  \n",
      " 0   id           11538 non-null  int64  \n",
      " 1   name         11538 non-null  object \n",
      " 2   nationality  11538 non-null  object \n",
      " 3   sex          11538 non-null  object \n",
      " 4   dob          11537 non-null  object \n",
      " 5   height       11208 non-null  float64\n",
      " 6   weight       10879 non-null  float64\n",
      " 7   sport        11538 non-null  object \n",
      " 8   gold         11538 non-null  int64  \n",
      " 9   silver       11538 non-null  int64  \n",
      " 10  bronze       11538 non-null  int64  \n",
      "dtypes: float64(2), int64(4), object(5)\n",
      "memory usage: 991.7+ KB\n"
     ]
    }
   ],
   "source": [
    "data.info()"
   ]
  },
  {
   "cell_type": "markdown",
   "id": "3b34db43",
   "metadata": {},
   "source": [
    "поля для модели\n",
    "    \n",
    " - национальность (перевод в числовой параметр библиотекой) not null\n",
    " - пол (перевод в 1:0 функция пандаса) not null\n",
    " - дата рождения (перевод в дату возможно вычислить возраст или год рождения как числовую переменную) null\n",
    " - рост и вес  null\n",
    " - спорт (перевод в чиловую переменную библиотекой)\n",
    " - целевая переменная есть медаль или нет"
   ]
  },
  {
   "cell_type": "code",
   "execution_count": 22,
   "id": "cc9f4986",
   "metadata": {},
   "outputs": [],
   "source": [
    "def split_dob (dob):\n",
    "    try:\n",
    "        return dob[-2:]\n",
    "    except:\n",
    "        return None\n",
    "    "
   ]
  },
  {
   "cell_type": "markdown",
   "id": "6835db08",
   "metadata": {},
   "source": [
    "#### преобразование"
   ]
  },
  {
   "cell_type": "code",
   "execution_count": 25,
   "id": "1a2f4b55",
   "metadata": {},
   "outputs": [],
   "source": [
    "# yob год рождения\n",
    "data['yob']= data.dob.apply(split_dob)"
   ]
  },
  {
   "cell_type": "code",
   "execution_count": 35,
   "id": "168d3bac",
   "metadata": {},
   "outputs": [],
   "source": [
    "# удаление пустых строк веса  и роста\n",
    "data = data.loc[data['height'].notnull()]\n",
    "data = data.loc[data['weight'].notnull()]"
   ]
  },
  {
   "cell_type": "code",
   "execution_count": 37,
   "id": "45beeba7",
   "metadata": {},
   "outputs": [],
   "source": [
    "# перевод пола в 1 и 0\n",
    "data.sex = (data.sex == 'female').astype('int')"
   ]
  },
  {
   "cell_type": "code",
   "execution_count": 44,
   "id": "79369287",
   "metadata": {},
   "outputs": [],
   "source": [
    "# перевод совместной целевой переменной победа/проигрыш\n",
    "data['win'] = data.gold + data.silver + data.bronze\n",
    "data.win = (data.win > 0).astype('int')"
   ]
  },
  {
   "cell_type": "markdown",
   "id": "23231048",
   "metadata": {},
   "source": [
    "Модель"
   ]
  },
  {
   "cell_type": "code",
   "execution_count": 56,
   "id": "33766e67",
   "metadata": {},
   "outputs": [],
   "source": [
    "from sklearn.linear_model import LogisticRegression\n",
    "from sklearn.preprocessing import StandardScaler\n",
    "from sklearn.model_selection import train_test_split"
   ]
  },
  {
   "cell_type": "code",
   "execution_count": 61,
   "id": "4e31dcc7",
   "metadata": {},
   "outputs": [],
   "source": [
    "# данные для модели\n",
    "selectedColumns = data[['nationality','sex','height','weight','sport', 'yob']]\n",
    "X = pd.get_dummies (selectedColumns, columns = ['nationality','sport'] )\n",
    "y = data.win"
   ]
  },
  {
   "cell_type": "code",
   "execution_count": 62,
   "id": "f2169e9c",
   "metadata": {},
   "outputs": [],
   "source": [
    "model = LogisticRegression()"
   ]
  },
  {
   "cell_type": "code",
   "execution_count": 63,
   "id": "3a03ea81",
   "metadata": {},
   "outputs": [],
   "source": [
    "X_train, X_test, y_train, y_test = train_test_split(X, y, test_size=0.2, random_state=0)"
   ]
  },
  {
   "cell_type": "code",
   "execution_count": 64,
   "id": "f9b31778",
   "metadata": {},
   "outputs": [
    {
     "name": "stderr",
     "output_type": "stream",
     "text": [
      "/Users/tatianautkina/opt/anaconda3/lib/python3.8/site-packages/sklearn/linear_model/_logistic.py:763: ConvergenceWarning: lbfgs failed to converge (status=1):\n",
      "STOP: TOTAL NO. of ITERATIONS REACHED LIMIT.\n",
      "\n",
      "Increase the number of iterations (max_iter) or scale the data as shown in:\n",
      "    https://scikit-learn.org/stable/modules/preprocessing.html\n",
      "Please also refer to the documentation for alternative solver options:\n",
      "    https://scikit-learn.org/stable/modules/linear_model.html#logistic-regression\n",
      "  n_iter_i = _check_optimize_result(\n"
     ]
    },
    {
     "data": {
      "text/plain": [
       "LogisticRegression()"
      ]
     },
     "execution_count": 64,
     "metadata": {},
     "output_type": "execute_result"
    }
   ],
   "source": [
    "model.fit(X_train, y_train)"
   ]
  },
  {
   "cell_type": "markdown",
   "id": "96873138",
   "metadata": {},
   "source": [
    "Отценка модели"
   ]
  },
  {
   "cell_type": "code",
   "execution_count": 92,
   "id": "44b96f5d",
   "metadata": {
    "scrolled": false
   },
   "outputs": [
    {
     "name": "stdout",
     "output_type": "stream",
     "text": [
      "train: 0.8434262030854248 test: 0.833793738489871\n"
     ]
    }
   ],
   "source": [
    "print('train:', model.score(X_train, y_train), 'test:',model.score(X_test, y_test))"
   ]
  },
  {
   "cell_type": "code",
   "execution_count": 80,
   "id": "a2fb97cd",
   "metadata": {},
   "outputs": [],
   "source": [
    "tp = 0 # True positive\n",
    "fp = 0 # False positive\n",
    "fn = 0 # False negative\n",
    "tn = 0 # True negative\n",
    "\n",
    "predictions = model.predict_proba( X_test )\n",
    "for predicted_prob, actual in zip( predictions[:, 1], y_test ):    \n",
    "    if predicted_prob >= 0.5:\n",
    "        predicted = 1\n",
    "    else:\n",
    "        predicted = 0\n",
    "    \n",
    "    if predicted == 1:\n",
    "        if actual == 1:\n",
    "            tp += 1\n",
    "        else:\n",
    "            fp += 1\n",
    "    \n",
    "    else:\n",
    "        if actual == 1:\n",
    "            fn += 1\n",
    "        else:\n",
    "            tn += 1"
   ]
  },
  {
   "cell_type": "code",
   "execution_count": 94,
   "id": "abfbea66",
   "metadata": {},
   "outputs": [
    {
     "name": "stdout",
     "output_type": "stream",
     "text": [
      "точность: 0.833793738489871\n"
     ]
    }
   ],
   "source": [
    "print('точность:', (tp + tn) / (tp + fp + fn + tn))"
   ]
  },
  {
   "cell_type": "code",
   "execution_count": 95,
   "id": "a6b2b15e",
   "metadata": {},
   "outputs": [
    {
     "data": {
      "text/plain": [
       "0.5"
      ]
     },
     "execution_count": 95,
     "metadata": {},
     "output_type": "execute_result"
    }
   ],
   "source": [
    "precision = tp / (tp + fp)\n",
    "precision"
   ]
  },
  {
   "cell_type": "code",
   "execution_count": 85,
   "id": "8ef2818d",
   "metadata": {},
   "outputs": [
    {
     "data": {
      "text/plain": [
       "0.038781163434903045"
      ]
     },
     "execution_count": 85,
     "metadata": {},
     "output_type": "execute_result"
    }
   ],
   "source": [
    "recall = tp / (tp + fn)\n",
    "recall"
   ]
  },
  {
   "cell_type": "code",
   "execution_count": 86,
   "id": "fe995231",
   "metadata": {},
   "outputs": [],
   "source": [
    "from sklearn.metrics import recall_score, precision_score"
   ]
  },
  {
   "cell_type": "code",
   "execution_count": 88,
   "id": "1f578c6a",
   "metadata": {},
   "outputs": [
    {
     "data": {
      "text/plain": [
       "0.038781163434903045"
      ]
     },
     "execution_count": 88,
     "metadata": {},
     "output_type": "execute_result"
    }
   ],
   "source": [
    "recall_score(y_test, pred)"
   ]
  },
  {
   "cell_type": "code",
   "execution_count": 90,
   "id": "92fb078d",
   "metadata": {},
   "outputs": [
    {
     "data": {
      "text/plain": [
       "0.5"
      ]
     },
     "execution_count": 90,
     "metadata": {},
     "output_type": "execute_result"
    }
   ],
   "source": [
    "precision_score(y_test, pred)"
   ]
  },
  {
   "cell_type": "code",
   "execution_count": 96,
   "id": "eb016148",
   "metadata": {},
   "outputs": [],
   "source": [
    "from sklearn.metrics import roc_curve"
   ]
  },
  {
   "cell_type": "code",
   "execution_count": 97,
   "id": "4103f08e",
   "metadata": {},
   "outputs": [],
   "source": [
    "fpr, tpr, thres = roc_curve(y_test, predictions[:, 1])"
   ]
  },
  {
   "cell_type": "code",
   "execution_count": 98,
   "id": "b64940f3",
   "metadata": {},
   "outputs": [
    {
     "name": "stdout",
     "output_type": "stream",
     "text": [
      "(0.0, 0.0, 1.7445152033891254)\n",
      "(0.0005521811154058532, 0.0, 0.7445152033891255)\n",
      "(0.0005521811154058532, 0.008310249307479225, 0.6403448376578291)\n",
      "(0.0016565433462175593, 0.008310249307479225, 0.571738899547245)\n",
      "(0.0016565433462175593, 0.019390581717451522, 0.5534969787447722)\n",
      "(0.0022087244616234127, 0.019390581717451522, 0.5494942696143484)\n",
      "(0.0022087244616234127, 0.024930747922437674, 0.5455533113724622)\n",
      "(0.0027609055770292656, 0.024930747922437674, 0.5430071940107933)\n",
      "(0.0027609055770292656, 0.0332409972299169, 0.5238856553341648)\n",
      "(0.0033130866924351186, 0.0332409972299169, 0.5192000699099985)\n"
     ]
    }
   ],
   "source": [
    "for line in zip( fpr[:10], tpr[:10], thres[:10] ):\n",
    "    print( line )"
   ]
  },
  {
   "cell_type": "code",
   "execution_count": 104,
   "id": "8249a953",
   "metadata": {},
   "outputs": [
    {
     "data": {
      "image/png": "[encoded data removed]",
      "text/plain": [
       "<Figure size 864x432 with 1 Axes>"
      ]
     },
     "metadata": {
      "needs_background": "light"
     },
     "output_type": "display_data"
    }
   ],
   "source": [
    "plt.figure(figsize=(12,6))\n",
    "plt.plot( fpr, tpr , label = 'model')\n",
    "plt.plot(np.linspace(0,1,100), np.linspace(0,1,100), c='red', label = 'random')\n",
    "plt.legend( loc = 0, fontsize=14)\n",
    "plt.grid()"
   ]
  },
  {
   "cell_type": "code",
   "execution_count": 105,
   "id": "b746d913",
   "metadata": {},
   "outputs": [],
   "source": [
    "from sklearn.metrics import roc_curve"
   ]
  },
  {
   "cell_type": "code",
   "execution_count": 106,
   "id": "40583b45",
   "metadata": {},
   "outputs": [],
   "source": [
    "from sklearn.metrics import roc_auc_score"
   ]
  },
  {
   "cell_type": "code",
   "execution_count": 108,
   "id": "7478f9e4",
   "metadata": {},
   "outputs": [
    {
     "data": {
      "text/plain": [
       "0.7495560372056883"
      ]
     },
     "execution_count": 108,
     "metadata": {},
     "output_type": "execute_result"
    }
   ],
   "source": [
    "roc_auc_score( y_test, predictions[:, 1] )"
   ]
  },
  {
   "cell_type": "markdown",
   "id": "4d1d122a",
   "metadata": {},
   "source": [
    "Вывод:\n",
    "Модель построенна лучше чем случайные значения"
   ]
  }
 ],
 "metadata": {
  "kernelspec": {
   "display_name": "Python 3",
   "language": "python",
   "name": "python3"
  },
  "language_info": {
   "codemirror_mode": {
    "name": "ipython",
    "version": 3
   },
   "file_extension": ".py",
   "mimetype": "text/x-python",
   "name": "python",
   "nbconvert_exporter": "python",
   "pygments_lexer": "ipython3",
   "version": "3.8.8"
  }
 },
 "nbformat": 4,
 "nbformat_minor": 5
}
