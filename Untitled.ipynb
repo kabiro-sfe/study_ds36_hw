{
 "cells": [
  {
   "cell_type": "code",
   "execution_count": 3,
   "id": "9b406e5b",
   "metadata": {},
   "outputs": [
    {
     "name": "stdout",
     "output_type": "stream",
     "text": [
      "helo word\n"
     ]
    }
   ],
   "source": [
    "print (\"helo word\")\n"
   ]
  },
  {
   "cell_type": "markdown",
   "id": "ffc474e8",
   "metadata": {},
   "source": [
    "Data Frame"
   ]
  },
  {
   "cell_type": "markdown",
   "id": "cb85dd73",
   "metadata": {},
   "source": [
    "Drop Nan row "
   ]
  },
  {
   "cell_type": "code",
   "execution_count": null,
   "id": "13538b68",
   "metadata": {},
   "outputs": [],
   "source": [
    "df.drop(df[df['amount_unit'].isna()].index, inplace=True)\n",
    "df = df.drop(df[df['amount_unit'].isna()].index)"
   ]
  }
 ],
 "metadata": {
  "kernelspec": {
   "display_name": "Python 3",
   "language": "python",
   "name": "python3"
  },
  "language_info": {
   "codemirror_mode": {
    "name": "ipython",
    "version": 3
   },
   "file_extension": ".py",
   "mimetype": "text/x-python",
   "name": "python",
   "nbconvert_exporter": "python",
   "pygments_lexer": "ipython3",
   "version": "3.8.8"
  }
 },
 "nbformat": 4,
 "nbformat_minor": 5
}
